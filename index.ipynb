{
 "cells": [
  {
   "cell_type": "markdown",
   "metadata": {},
   "source": [
    "<!-- NB! Any file that is in a bulletslist will end up in the documentation-->\n",
    "* [Installation](installation.ipynb)\n",
    "* [Basic Text class operations](text.ipynb)\n",
    "\n",
    "\n",
    "* [Wikipedia tools](wikipedia.ipynb)\n",
    "* [Elasticsearch](elasticsearch.ipynb)\n",
    "* [Corpus-based Morphological Disambiguation](disambiguation.ipynb)\n",
    "* [Grammars](grammar.ipynb)\n",
    "* [Noun-phrase chunker](np_chunker.ipynb)\n",
    "* [Adjective phrase tagger](adj_phrase_tagger_doc.ipynb)\n",
    "* [Dependency syntactic analysis](dependency_syntax.ipynb)\n",
    "* [Name-Entity Recognition](ner.ipynb)\n",
    "* [Prettyprinter](prettyprinter.ipynb)\n",
    "* [Terminal prettyprinter](terminalprettyprinter.ipynb)\n",
    "\n",
    "\n",
    "* [Working with Koondkorpus](tei.ipynb)\n",
    "* [Tables of Morphological Categories](morphology_tables.ipynb)\n",
    "* [Developer readme](devel.ipynb)\n"
   ]
  }
 ],
 "metadata": {
  "anaconda-cloud": {},
  "kernelspec": {
   "display_name": "Python [conda root]",
   "language": "python",
   "name": "conda-root-py"
  },
  "language_info": {
   "codemirror_mode": {
    "name": "ipython",
    "version": 3
   },
   "file_extension": ".py",
   "mimetype": "text/x-python",
   "name": "python",
   "nbconvert_exporter": "python",
   "pygments_lexer": "ipython3",
   "version": "3.5.2"
  }
 },
 "nbformat": 4,
 "nbformat_minor": 1
}
