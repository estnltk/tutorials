{
 "cells": [
  {
   "cell_type": "markdown",
   "metadata": {},
   "source": [
    "Simple grammars for information extraction\n",
    "==========================================\n",
    "\n",
    "Estnltk comes with simple grammar constructs that are useful for basic\n",
    "information extraction. Consider that you have a recipe for making\n",
    "panncakes:"
   ]
  },
  {
   "cell_type": "code",
   "execution_count": 1,
   "metadata": {
    "collapsed": true
   },
   "outputs": [],
   "source": [
    "recipe = '''\n",
    "2,5 dl piima\n",
    "1,5 dl jahu\n",
    "1 muna\n",
    "1 tl suhkrut\n",
    "1 tl vaniljeekstrakti\n",
    "0,5 tl soola\n",
    "'''"
   ]
  },
  {
   "cell_type": "markdown",
   "metadata": {},
   "source": [
    "Suppose you want to create a robot that can cook various meals. In order\n",
    "to program that robot, you need a software module, which can parse\n",
    "recipes. This is where Estnltk's `estnltk.grammar.grammar` module can\n",
    "help you.\n",
    "\n",
    "In the above example, we need to parse the numbers, unit and the name of\n",
    "the ingredient into more managenable form than free-text:"
   ]
  },
  {
   "cell_type": "code",
   "execution_count": 2,
   "metadata": {
    "collapsed": true
   },
   "outputs": [],
   "source": [
    "from estnltk import Regex, Lemmas\n",
    "\n",
    "number = Regex('\\d+([,.]\\d+)?', name='amount')\n",
    "unit = Lemmas('dl', 'tl', name='unit')\n",
    "ingredient = Lemmas('piim', 'jahu', 'muna', 'suhkur', 'vaniljeekstrakt', 'sool', name='ingredient')"
   ]
  },
  {
   "cell_type": "markdown",
   "metadata": {},
   "source": [
    "Now, there are two types of instructions:"
   ]
  },
  {
   "cell_type": "code",
   "execution_count": 3,
   "metadata": {
    "collapsed": true
   },
   "outputs": [],
   "source": [
    "from estnltk import Concatenation\n",
    "\n",
    "space = Regex('\\s*')\n",
    "full_instruction = Concatenation(number, unit, ingredient, sep=space)\n",
    "short_instruction = Concatenation(number, ingredient, sep=space)"
   ]
  },
  {
   "cell_type": "markdown",
   "metadata": {},
   "source": [
    "And we want to capture them both:"
   ]
  },
  {
   "cell_type": "code",
   "execution_count": 4,
   "metadata": {
    "collapsed": true
   },
   "outputs": [],
   "source": [
    "from estnltk import Union\n",
    "\n",
    "instruction = Union(full_instruction, short_instruction, name='instruction')"
   ]
  },
  {
   "cell_type": "markdown",
   "metadata": {},
   "source": [
    "Basically, a grammar contains a number of symbols that can be chained\n",
    "together in various ways and rigged for information extraction. Above\n",
    "grammar just extracts numbers defined by a regular expression, and units\n",
    "and ingredients based on user given lists.\n",
    "\n",
    "Now, going back to our robot example, we can extract the data from text\n",
    "using `get_matches` method:"
   ]
  },
  {
   "cell_type": "code",
   "execution_count": 5,
   "metadata": {
    "collapsed": false
   },
   "outputs": [],
   "source": [
    "from estnltk import Text\n",
    "from pprint import pprint\n",
    "\n",
    "text = Text(recipe)"
   ]
  },
  {
   "cell_type": "markdown",
   "metadata": {},
   "source": [
    "The `dict` attribute of each **Match** instance\n",
    "can be used to access the symbol's name, matched text, start and end\n",
    "positions and also all submatches:"
   ]
  },
  {
   "cell_type": "code",
   "execution_count": 6,
   "metadata": {
    "collapsed": false
   },
   "outputs": [
    {
     "name": "stdout",
     "output_type": "stream",
     "text": [
      "{'amount': {'end': 4, 'start': 1, 'text': '2,5'},\n",
      " 'ingredient': {'end': 13, 'start': 8, 'text': 'piima'},\n",
      " 'instruction': {'end': 13, 'start': 1, 'text': '2,5 dl piima'},\n",
      " 'unit': {'end': 7, 'start': 5, 'text': 'dl'}}\n",
      "{'amount': {'end': 17, 'start': 14, 'text': '1,5'},\n",
      " 'ingredient': {'end': 25, 'start': 21, 'text': 'jahu'},\n",
      " 'instruction': {'end': 25, 'start': 14, 'text': '1,5 dl jahu'},\n",
      " 'unit': {'end': 20, 'start': 18, 'text': 'dl'}}\n",
      "{'amount': {'end': 27, 'start': 26, 'text': '1'},\n",
      " 'ingredient': {'end': 32, 'start': 28, 'text': 'muna'},\n",
      " 'instruction': {'end': 32, 'start': 26, 'text': '1 muna'}}\n",
      "{'amount': {'end': 34, 'start': 33, 'text': '1'},\n",
      " 'ingredient': {'end': 45, 'start': 38, 'text': 'suhkrut'},\n",
      " 'instruction': {'end': 45, 'start': 33, 'text': '1 tl suhkrut'},\n",
      " 'unit': {'end': 37, 'start': 35, 'text': 'tl'}}\n",
      "{'amount': {'end': 47, 'start': 46, 'text': '1'},\n",
      " 'ingredient': {'end': 67, 'start': 51, 'text': 'vaniljeekstrakti'},\n",
      " 'instruction': {'end': 67, 'start': 46, 'text': '1 tl vaniljeekstrakti'},\n",
      " 'unit': {'end': 50, 'start': 48, 'text': 'tl'}}\n",
      "{'amount': {'end': 71, 'start': 68, 'text': '0,5'},\n",
      " 'ingredient': {'end': 80, 'start': 75, 'text': 'soola'},\n",
      " 'instruction': {'end': 80, 'start': 68, 'text': '0,5 tl soola'},\n",
      " 'unit': {'end': 74, 'start': 72, 'text': 'tl'}}\n"
     ]
    }
   ],
   "source": [
    "for match in instruction.get_matches(text):\n",
    "    pprint(match.dict)"
   ]
  },
  {
   "cell_type": "markdown",
   "metadata": {},
   "source": [
    "You can also use the symbols to tag layers directly in\n",
    "**Text** instances:"
   ]
  },
  {
   "cell_type": "code",
   "execution_count": 7,
   "metadata": {
    "collapsed": false
   },
   "outputs": [
    {
     "data": {
      "text/plain": [
       "{'amount': [{'end': 4, 'start': 1, 'text': '2,5'},\n",
       "  {'end': 17, 'start': 14, 'text': '1,5'},\n",
       "  {'end': 27, 'start': 26, 'text': '1'},\n",
       "  {'end': 34, 'start': 33, 'text': '1'},\n",
       "  {'end': 47, 'start': 46, 'text': '1'},\n",
       "  {'end': 71, 'start': 68, 'text': '0,5'}],\n",
       " 'ingredient': [{'end': 13, 'start': 8, 'text': 'piima'},\n",
       "  {'end': 25, 'start': 21, 'text': 'jahu'},\n",
       "  {'end': 32, 'start': 28, 'text': 'muna'},\n",
       "  {'end': 45, 'start': 38, 'text': 'suhkrut'},\n",
       "  {'end': 67, 'start': 51, 'text': 'vaniljeekstrakti'},\n",
       "  {'end': 80, 'start': 75, 'text': 'soola'}],\n",
       " 'instruction': [{'end': 13, 'start': 1, 'text': '2,5 dl piima'},\n",
       "  {'end': 25, 'start': 14, 'text': '1,5 dl jahu'},\n",
       "  {'end': 32, 'start': 26, 'text': '1 muna'},\n",
       "  {'end': 45, 'start': 33, 'text': '1 tl suhkrut'},\n",
       "  {'end': 67, 'start': 46, 'text': '1 tl vaniljeekstrakti'},\n",
       "  {'end': 80, 'start': 68, 'text': '0,5 tl soola'}],\n",
       " 'paragraphs': [{'end': 81, 'start': 0}],\n",
       " 'sentences': [{'end': 81, 'start': 0}],\n",
       " 'text': '\\n2,5 dl piima\\n1,5 dl jahu\\n1 muna\\n1 tl suhkrut\\n1 tl vaniljeekstrakti\\n0,5 tl soola\\n',\n",
       " 'unit': [{'end': 7, 'start': 5, 'text': 'dl'},\n",
       "  {'end': 20, 'start': 18, 'text': 'dl'},\n",
       "  {'end': 37, 'start': 35, 'text': 'tl'},\n",
       "  {'end': 50, 'start': 48, 'text': 'tl'},\n",
       "  {'end': 74, 'start': 72, 'text': 'tl'}],\n",
       " 'words': [{'analysis': [{'clitic': '',\n",
       "     'ending': '0',\n",
       "     'form': '?',\n",
       "     'lemma': '2,5',\n",
       "     'partofspeech': 'N',\n",
       "     'root': '2,5',\n",
       "     'root_tokens': ['2,5']}],\n",
       "   'end': 4,\n",
       "   'start': 1,\n",
       "   'text': '2,5'},\n",
       "  {'analysis': [{'clitic': '',\n",
       "     'ending': '0',\n",
       "     'form': '?',\n",
       "     'lemma': 'dl',\n",
       "     'partofspeech': 'Y',\n",
       "     'root': 'dl',\n",
       "     'root_tokens': ['dl']}],\n",
       "   'end': 7,\n",
       "   'start': 5,\n",
       "   'text': 'dl'},\n",
       "  {'analysis': [{'clitic': '',\n",
       "     'ending': '0',\n",
       "     'form': 'sg p',\n",
       "     'lemma': 'piim',\n",
       "     'partofspeech': 'S',\n",
       "     'root': 'piim',\n",
       "     'root_tokens': ['piim']}],\n",
       "   'end': 13,\n",
       "   'start': 8,\n",
       "   'text': 'piima'},\n",
       "  {'analysis': [{'clitic': '',\n",
       "     'ending': '0',\n",
       "     'form': '?',\n",
       "     'lemma': '1,5',\n",
       "     'partofspeech': 'N',\n",
       "     'root': '1,5',\n",
       "     'root_tokens': ['1,5']}],\n",
       "   'end': 17,\n",
       "   'start': 14,\n",
       "   'text': '1,5'},\n",
       "  {'analysis': [{'clitic': '',\n",
       "     'ending': '0',\n",
       "     'form': '?',\n",
       "     'lemma': 'dl',\n",
       "     'partofspeech': 'Y',\n",
       "     'root': 'dl',\n",
       "     'root_tokens': ['dl']}],\n",
       "   'end': 20,\n",
       "   'start': 18,\n",
       "   'text': 'dl'},\n",
       "  {'analysis': [{'clitic': '',\n",
       "     'ending': '0',\n",
       "     'form': 'sg p',\n",
       "     'lemma': 'jahu',\n",
       "     'partofspeech': 'S',\n",
       "     'root': 'jahu',\n",
       "     'root_tokens': ['jahu']}],\n",
       "   'end': 25,\n",
       "   'start': 21,\n",
       "   'text': 'jahu'},\n",
       "  {'analysis': [{'clitic': '',\n",
       "     'ending': '0',\n",
       "     'form': '?',\n",
       "     'lemma': '1',\n",
       "     'partofspeech': 'N',\n",
       "     'root': '1',\n",
       "     'root_tokens': ['1']}],\n",
       "   'end': 27,\n",
       "   'start': 26,\n",
       "   'text': '1'},\n",
       "  {'analysis': [{'clitic': '',\n",
       "     'ending': '0',\n",
       "     'form': 'sg p',\n",
       "     'lemma': 'muna',\n",
       "     'partofspeech': 'S',\n",
       "     'root': 'muna',\n",
       "     'root_tokens': ['muna']}],\n",
       "   'end': 32,\n",
       "   'start': 28,\n",
       "   'text': 'muna'},\n",
       "  {'analysis': [{'clitic': '',\n",
       "     'ending': '0',\n",
       "     'form': '?',\n",
       "     'lemma': '1',\n",
       "     'partofspeech': 'N',\n",
       "     'root': '1',\n",
       "     'root_tokens': ['1']}],\n",
       "   'end': 34,\n",
       "   'start': 33,\n",
       "   'text': '1'},\n",
       "  {'analysis': [{'clitic': '',\n",
       "     'ending': '0',\n",
       "     'form': '?',\n",
       "     'lemma': 'tl',\n",
       "     'partofspeech': 'Y',\n",
       "     'root': 'tl',\n",
       "     'root_tokens': ['tl']}],\n",
       "   'end': 37,\n",
       "   'start': 35,\n",
       "   'text': 'tl'},\n",
       "  {'analysis': [{'clitic': '',\n",
       "     'ending': 't',\n",
       "     'form': 'sg p',\n",
       "     'lemma': 'suhkur',\n",
       "     'partofspeech': 'S',\n",
       "     'root': 'suhkur',\n",
       "     'root_tokens': ['suhkur']}],\n",
       "   'end': 45,\n",
       "   'start': 38,\n",
       "   'text': 'suhkrut'},\n",
       "  {'analysis': [{'clitic': '',\n",
       "     'ending': '0',\n",
       "     'form': '?',\n",
       "     'lemma': '1',\n",
       "     'partofspeech': 'N',\n",
       "     'root': '1',\n",
       "     'root_tokens': ['1']}],\n",
       "   'end': 47,\n",
       "   'start': 46,\n",
       "   'text': '1'},\n",
       "  {'analysis': [{'clitic': '',\n",
       "     'ending': '0',\n",
       "     'form': '?',\n",
       "     'lemma': 'tl',\n",
       "     'partofspeech': 'Y',\n",
       "     'root': 'tl',\n",
       "     'root_tokens': ['tl']}],\n",
       "   'end': 50,\n",
       "   'start': 48,\n",
       "   'text': 'tl'},\n",
       "  {'analysis': [{'clitic': '',\n",
       "     'ending': '0',\n",
       "     'form': 'sg p',\n",
       "     'lemma': 'vaniljeekstrakt',\n",
       "     'partofspeech': 'S',\n",
       "     'root': 'vanilje_ekstrakt',\n",
       "     'root_tokens': ['vanilje', 'ekstrakt']}],\n",
       "   'end': 67,\n",
       "   'start': 51,\n",
       "   'text': 'vaniljeekstrakti'},\n",
       "  {'analysis': [{'clitic': '',\n",
       "     'ending': '0',\n",
       "     'form': '?',\n",
       "     'lemma': '0,5',\n",
       "     'partofspeech': 'N',\n",
       "     'root': '0,5',\n",
       "     'root_tokens': ['0,5']}],\n",
       "   'end': 71,\n",
       "   'start': 68,\n",
       "   'text': '0,5'},\n",
       "  {'analysis': [{'clitic': '',\n",
       "     'ending': '0',\n",
       "     'form': '?',\n",
       "     'lemma': 'tl',\n",
       "     'partofspeech': 'Y',\n",
       "     'root': 'tl',\n",
       "     'root_tokens': ['tl']}],\n",
       "   'end': 74,\n",
       "   'start': 72,\n",
       "   'text': 'tl'},\n",
       "  {'analysis': [{'clitic': '',\n",
       "     'ending': '0',\n",
       "     'form': 'sg p',\n",
       "     'lemma': 'sool',\n",
       "     'partofspeech': 'S',\n",
       "     'root': 'sool',\n",
       "     'root_tokens': ['sool']}],\n",
       "   'end': 80,\n",
       "   'start': 75,\n",
       "   'text': 'soola'}]}"
      ]
     },
     "execution_count": 7,
     "metadata": {},
     "output_type": "execute_result"
    }
   ],
   "source": [
    "instruction.annotate(text)"
   ]
  },
  {
   "cell_type": "markdown",
   "metadata": {},
   "source": [
    "Let's use prettyprinter to visualize this as HTML:"
   ]
  },
  {
   "cell_type": "code",
   "execution_count": 8,
   "metadata": {
    "collapsed": true
   },
   "outputs": [],
   "source": [
    "from IPython.display import HTML"
   ]
  },
  {
   "cell_type": "code",
   "execution_count": 9,
   "metadata": {
    "collapsed": false
   },
   "outputs": [],
   "source": [
    "from estnltk import PrettyPrinter\n",
    "pp = PrettyPrinter(background='instruction', underline='ingredient', weight='unit')\n",
    "html = pp.render(text, add_header=True)"
   ]
  },
  {
   "cell_type": "code",
   "execution_count": 10,
   "metadata": {
    "collapsed": false
   },
   "outputs": [
    {
     "data": {
      "text/html": [
       "<!DOCTYPE html>\n",
       "<html>\n",
       "    <head>\n",
       "        <link rel=\"stylesheet\" type=\"text/css\" href=\"prettyprinter.css\">\n",
       "        <meta charset=\"utf-8\">\n",
       "        <title>PrettyPrinter</title>\n",
       "    </head>\n",
       "    <style>\n",
       "\n",
       "\n",
       "\t\tmark {\n",
       "\t\t\tbackground:none;\n",
       "\t\t}\n",
       "\t\tmark.underline {\n",
       "\t\t\ttext-decoration: underline;\n",
       "\t\t}\n",
       "\t\tmark.weight {\n",
       "\t\t\tfont-weight: bold;\n",
       "\t\t}\n",
       "\t\tmark.background {\n",
       "\t\t\tbackground-color: rgb(102, 204, 255);\n",
       "\t\t}\n",
       "\n",
       "    </style>\n",
       "    <body>\n",
       "\n",
       "<br/><mark class=\"background\">2,5 </mark><mark class=\"background weight\">dl</mark><mark class=\"background\"> </mark><mark class=\"background underline\">piima</mark><br/><mark class=\"background\">1,5 </mark><mark class=\"background weight\">dl</mark><mark class=\"background\"> </mark><mark class=\"background underline\">jahu</mark><br/><mark class=\"background\">1 </mark><mark class=\"background underline\">muna</mark><br/><mark class=\"background\">1 </mark><mark class=\"background weight\">tl</mark><mark class=\"background\"> </mark><mark class=\"background underline\">suhkrut</mark><br/><mark class=\"background\">1 </mark><mark class=\"background weight\">tl</mark><mark class=\"background\"> </mark><mark class=\"background underline\">vaniljeekstrakti</mark><br/><mark class=\"background\">0,5 </mark><mark class=\"background weight\">tl</mark><mark class=\"background\"> </mark><mark class=\"background underline\">soola</mark><br/>\n",
       "\t</body>\n",
       "</html>"
      ],
      "text/plain": [
       "<IPython.core.display.HTML object>"
      ]
     },
     "execution_count": 10,
     "metadata": {},
     "output_type": "execute_result"
    }
   ],
   "source": [
    "HTML(html)"
   ]
  },
  {
   "cell_type": "markdown",
   "metadata": {},
   "source": [
    "You can access the annotated layers as you would access typical layers:"
   ]
  },
  {
   "cell_type": "code",
   "execution_count": 11,
   "metadata": {
    "collapsed": false
   },
   "outputs": [
    {
     "name": "stdout",
     "output_type": "stream",
     "text": [
      "[{'end': 13, 'start': 8, 'text': 'piima'},\n",
      " {'end': 25, 'start': 21, 'text': 'jahu'},\n",
      " {'end': 32, 'start': 28, 'text': 'muna'},\n",
      " {'end': 45, 'start': 38, 'text': 'suhkrut'},\n",
      " {'end': 67, 'start': 51, 'text': 'vaniljeekstrakti'},\n",
      " {'end': 80, 'start': 75, 'text': 'soola'}]\n"
     ]
    }
   ],
   "source": [
    "pprint(text['ingredient'])"
   ]
  },
  {
   "cell_type": "markdown",
   "metadata": {},
   "source": [
    "See package `estnltk.grammar.examples` for more examples."
   ]
  }
 ],
 "metadata": {
  "anaconda-cloud": {},
  "kernelspec": {
   "display_name": "Python [default]",
   "language": "python",
   "name": "python3"
  },
  "language_info": {
   "codemirror_mode": {
    "name": "ipython",
    "version": 3
   },
   "file_extension": ".py",
   "mimetype": "text/x-python",
   "name": "python",
   "nbconvert_exporter": "python",
   "pygments_lexer": "ipython3",
   "version": "3.5.2"
  }
 },
 "nbformat": 4,
 "nbformat_minor": 1
}
