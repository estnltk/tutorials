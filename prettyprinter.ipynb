{
 "cells": [
  {
   "cell_type": "markdown",
   "metadata": {},
   "source": [
    "HTML Prettyprinter\n",
    "==================\n",
    "\n",
    "Visualizing information is one of the most crucial steps in text\n",
    "processing software and arises in many uses cases. Estnltk comes with\n",
    "HTML PrettyPrinter that can help building Web applications and custom\n",
    "tools that deal with text processing.\n",
    "\n",
    "PrettyPrinter is capable of very different types of visualization. From\n",
    "visualization of simple given word to multiple and overlapping word\n",
    "types and even parts of whole sentences. Here is a list of properties\n",
    "that can be modified with the help of PrettyPrinter and the matching\n",
    "name of the value that the module is expecting:"
   ]
  },
  {
   "cell_type": "markdown",
   "metadata": {},
   "source": [
    "* Change font color - 'color'\n",
    "\n",
    "* Change background color - 'background'\n",
    "\n",
    "* Change font style - 'font'\n",
    "\n",
    "* Change font weight - 'weight'\n",
    "\n",
    "* Change font style - 'italics'\n",
    "\n",
    "* Add underline - 'underline'\n",
    "\n",
    "* Change font size - 'size'\n",
    "\n",
    "* Change letter spacing - 'tracking'\n"
   ]
  },
  {
   "cell_type": "markdown",
   "metadata": {},
   "source": [
    "**Example \\#1** Formating specific word in all of text with different\n",
    "visual format.:"
   ]
  },
  {
   "cell_type": "code",
   "execution_count": 1,
   "metadata": {
    "collapsed": true
   },
   "outputs": [],
   "source": [
    "from IPython.display import HTML"
   ]
  },
  {
   "cell_type": "code",
   "execution_count": 2,
   "metadata": {
    "collapsed": false
   },
   "outputs": [],
   "source": [
    "from estnltk import Text\n",
    "from estnltk import PrettyPrinter\n",
    "\n",
    "text = Text('This must be formatted here and here')\n",
    "text.tag_with_regex('annotations', 'here')\n",
    "\n",
    "pp = PrettyPrinter(background='annotations')"
   ]
  },
  {
   "cell_type": "markdown",
   "metadata": {},
   "source": [
    "The result of this short program will be:"
   ]
  },
  {
   "cell_type": "code",
   "execution_count": 3,
   "metadata": {
    "collapsed": false
   },
   "outputs": [
    {
     "data": {
      "text/html": [
       "<!DOCTYPE html>\n",
       "<html>\n",
       "    <head>\n",
       "        <link rel=\"stylesheet\" type=\"text/css\" href=\"prettyprinter.css\">\n",
       "        <meta charset=\"utf-8\">\n",
       "        <title>PrettyPrinter</title>\n",
       "    </head>\n",
       "    <style>\n",
       "\n",
       "\n",
       "\t\tmark {\n",
       "\t\t\tbackground:none;\n",
       "\t\t}\n",
       "\t\tmark.background {\n",
       "\t\t\tbackground-color: rgb(102, 204, 255);\n",
       "\t\t}\n",
       "\n",
       "    </style>\n",
       "    <body>\n",
       "\n",
       "This must be formatted <mark class=\"background\">here</mark> and <mark class=\"background\">here</mark>\n",
       "\t</body>\n",
       "</html>"
      ],
      "text/plain": [
       "<IPython.core.display.HTML object>"
      ]
     },
     "execution_count": 3,
     "metadata": {},
     "output_type": "execute_result"
    }
   ],
   "source": [
    "HTML(pp.render(text, True))"
   ]
  },
  {
   "cell_type": "markdown",
   "metadata": {},
   "source": [
    "Class **Text** is what does all the analysis. If we are\n",
    "looking to mark a specific word as in this case is the word 'here' then\n",
    "we must bind the annotation to the word 'here' with the help of a\n",
    "function of **Text** called\n",
    "`tags_with_regex('annotations', 'here')` that tags the value of\n",
    "'annotations' to the word 'here'. This will later be used to find the\n",
    "exact index where to start and end the selected formating.\n",
    "\n",
    "When we create a new class PrettyPrinter variable by\n",
    "`pp = PrettyPrinter(background='annotations')`, we add arguments\n",
    "describing what property will be added to which tag, in our case,\n",
    "everything that is tagged as 'annotations' will get a different\n",
    "background color. The `rgb(102, 204, 255)` is a stock value that is\n",
    "added as background color if no other color is specified during\n",
    "initiation of the PrettyPrinter class object.\n",
    "\n",
    "Keep in mind that if we activate PrettyPrinter function with the\n",
    "argument `False` instead of `True`, then the result will not be the full\n",
    "HTML text, but only the formatted text inside the HTML body paragraph."
   ]
  },
  {
   "cell_type": "markdown",
   "metadata": {},
   "source": [
    "**Example \\#2** Formating the same property with different visual format\n",
    "depending on the specific word:"
   ]
  },
  {
   "cell_type": "code",
   "execution_count": 4,
   "metadata": {
    "collapsed": true
   },
   "outputs": [],
   "source": [
    "text = Text('Nimisõnad värvitakse').tag_analysis()\n",
    "rules =[\n",
    "            ('Nimisõnad', 'green'),\n",
    "            ('värvitakse', 'blue')\n",
    "        ]\n",
    "pp = PrettyPrinter(background='words', background_value=rules)\n",
    "html = pp.render(text, True)"
   ]
  },
  {
   "cell_type": "markdown",
   "metadata": {},
   "source": [
    "The result of this program will be:"
   ]
  },
  {
   "cell_type": "code",
   "execution_count": 5,
   "metadata": {
    "collapsed": false
   },
   "outputs": [
    {
     "data": {
      "text/html": [
       "<!DOCTYPE html>\n",
       "<html>\n",
       "    <head>\n",
       "        <link rel=\"stylesheet\" type=\"text/css\" href=\"prettyprinter.css\">\n",
       "        <meta charset=\"utf-8\">\n",
       "        <title>PrettyPrinter</title>\n",
       "    </head>\n",
       "    <style>\n",
       "\n",
       "\n",
       "\t\tmark {\n",
       "\t\t\tbackground:none;\n",
       "\t\t}\n",
       "\t\tmark.background_0 {\n",
       "\t\t\tbackground-color: green;\n",
       "\t\t}\n",
       "\t\tmark.background_1 {\n",
       "\t\t\tbackground-color: blue;\n",
       "\t\t}\n",
       "\n",
       "    </style>\n",
       "    <body>\n",
       "\n",
       "<mark class=\"background_0\">Nimisõnad</mark> <mark class=\"background_1\">värvitakse</mark>\n",
       "\t</body>\n",
       "</html>"
      ],
      "text/plain": [
       "<IPython.core.display.HTML object>"
      ]
     },
     "execution_count": 5,
     "metadata": {},
     "output_type": "execute_result"
    }
   ],
   "source": [
    "HTML(html)"
   ]
  },
  {
   "cell_type": "markdown",
   "metadata": {},
   "source": [
    "This time we gave the PrettyPrinter class object two arguments:\n",
    "`background='words', background_value=rules`. The background value\n",
    "'words' means that we will not be adding any specific tags as in the\n",
    "previous case, but instead use the original tag that is used in case of\n",
    "every word. PrettyPrinter will check itself what words match the rules\n",
    "specified in the list 'rules'. Now the second argument\n",
    "background\\_value=rules shows PrettyPrinter what values will be given to\n",
    "what tag values. Basically what our 'rules' say to the PrettyPrinter is\n",
    "that each word 'Nimisõnad' will be given a green background color and\n",
    "the word 'värvitakse' will be given a blue background color. Because\n",
    "different words can have different visual properties of the same\n",
    "type(eg. background color, font color, font size etc.) the css marks are\n",
    "numbered based on the number of overlapping values."
   ]
  },
  {
   "cell_type": "markdown",
   "metadata": {},
   "source": [
    "**Example \\#3** Using word type tags as rule parameters:"
   ]
  },
  {
   "cell_type": "code",
   "execution_count": 6,
   "metadata": {
    "collapsed": false
   },
   "outputs": [],
   "source": [
    "# TODO: currently doesn't work on POS-tags\n",
    "\n",
    "text = Text('Suured kollased kõrvad ja').tag_analysis()\n",
    "rules =[\n",
    "            ('A', 'blue'),\n",
    "            ('S', 'green')\n",
    "        ]\n",
    "pp = PrettyPrinter(background='words', background_value=rules)\n",
    "html = pp.render(text, True)"
   ]
  },
  {
   "cell_type": "markdown",
   "metadata": {},
   "source": [
    "This time the defining parameters are 'A' and 'S' which stand for\n",
    "different word types. The list of different tags can be found below:"
   ]
  },
  {
   "cell_type": "markdown",
   "metadata": {},
   "source": [
    "* A - adjective\n",
    "* C - comparative adjective\n",
    "* D - adverb\n",
    "* G - non declinable adjective\n",
    "* H - real name\n",
    "* I - interjection\n",
    "* J - conjunction\n",
    "* K - co-expression\n",
    "* N - cardinal numeral\n",
    "* O - ordinal numeral\n",
    "* P - pronoun\n",
    "* S - noun\n",
    "* U - superlative adjective\n",
    "* V - verb\n",
    "* X - other type of word belonging together with a verb\n",
    "* Y - abbreviation\n",
    "* Z - sign"
   ]
  },
  {
   "cell_type": "markdown",
   "metadata": {},
   "source": [
    "PrettyPrinter will sort everything else out by itself. The result of this will be:"
   ]
  },
  {
   "cell_type": "code",
   "execution_count": 7,
   "metadata": {
    "collapsed": false
   },
   "outputs": [
    {
     "data": {
      "text/html": [
       "<!DOCTYPE html>\n",
       "<html>\n",
       "    <head>\n",
       "        <link rel=\"stylesheet\" type=\"text/css\" href=\"prettyprinter.css\">\n",
       "        <meta charset=\"utf-8\">\n",
       "        <title>PrettyPrinter</title>\n",
       "    </head>\n",
       "    <style>\n",
       "\n",
       "\n",
       "\t\tmark {\n",
       "\t\t\tbackground:none;\n",
       "\t\t}\n",
       "\t\tmark.background_0 {\n",
       "\t\t\tbackground-color: blue;\n",
       "\t\t}\n",
       "\t\tmark.background_1 {\n",
       "\t\t\tbackground-color: green;\n",
       "\t\t}\n",
       "\n",
       "    </style>\n",
       "    <body>\n",
       "\n",
       "<mark class=\"background_1\">Suured</mark> kollased kõrvad ja\n",
       "\t</body>\n",
       "</html>"
      ],
      "text/plain": [
       "<IPython.core.display.HTML object>"
      ]
     },
     "execution_count": 7,
     "metadata": {},
     "output_type": "execute_result"
    }
   ],
   "source": [
    "HTML(html)"
   ]
  },
  {
   "cell_type": "markdown",
   "metadata": {},
   "source": [
    "As we can see from the results, all adjectives have been marked with a\n",
    "css background mark tag for color blue and the noun in the sentence has\n",
    "been marked with a css background mark tag for color green. In this way\n",
    "it is possible to visually separate all words that are of a specific\n",
    "type simply and effectively."
   ]
  },
  {
   "cell_type": "markdown",
   "metadata": {},
   "source": [
    "**Example \\#4** Using different category visual representation dor\n",
    "different parts of text:"
   ]
  },
  {
   "cell_type": "code",
   "execution_count": 8,
   "metadata": {
    "collapsed": true
   },
   "outputs": [],
   "source": [
    "# TODO: not working correctly\n",
    "\n",
    "text = Text('Esimene ja teine märgend')\n",
    "text.tag_with_regex('A', 'Esimene ja')\n",
    "text.tag_with_regex('B', 'ja teine')\n",
    "\n",
    "pp = PrettyPrinter(color='A', background='B')\n",
    "html = pp.render(text, False)"
   ]
  },
  {
   "cell_type": "markdown",
   "metadata": {},
   "source": [
    "This time we want to highlight two different word types with different\n",
    "properties, font color and background color. To do this, we have to add\n",
    "both layers as PrettyPrinter class parameters and tie those to a certain\n",
    "value. With `text.tag_with_regex('A', 'Esimene ja')` we bind the\n",
    "formating option in PerttyPrinter parameters `color='A'` applies to\n",
    "'Esimene ja' part of the text. What happens is that we will have two\n",
    "different css formats, each changing different things. Here we can also\n",
    "see that the formatting works with overlapping layers, because the word\n",
    "'ja' is in both 'A' and 'B'. The output with 'False' as the second\n",
    "parameter in render, will be the following:"
   ]
  },
  {
   "cell_type": "code",
   "execution_count": 9,
   "metadata": {
    "collapsed": false
   },
   "outputs": [
    {
     "data": {
      "text/html": [
       "<mark class=\"color\">Esimene </mark><mark class=\"background color\">ja</mark><mark class=\"background\"> teine</mark> märgend"
      ],
      "text/plain": [
       "<IPython.core.display.HTML object>"
      ]
     },
     "execution_count": 9,
     "metadata": {},
     "output_type": "execute_result"
    }
   ],
   "source": [
    "HTML(html)"
   ]
  },
  {
   "cell_type": "markdown",
   "metadata": {},
   "source": [
    "Here we can see, that the word 'ja' has two class tags, 'background' and\n",
    "'color'."
   ]
  },
  {
   "cell_type": "markdown",
   "metadata": {},
   "source": [
    "Generating just the css\n",
    "-----------------------\n",
    "\n",
    "It is possible, to use PrettyPrinter to generate just the css formatting\n",
    "without the HTML or the actual word content. In this case we just supply\n",
    "the PrettyPrinter class object with the necessary parameters and\n",
    "additional rules(if needed) and the class will generate the required css\n",
    "mark tags."
   ]
  },
  {
   "cell_type": "markdown",
   "metadata": {},
   "source": [
    "**Example \\#5** generating one layer css:"
   ]
  },
  {
   "cell_type": "code",
   "execution_count": 10,
   "metadata": {
    "collapsed": true
   },
   "outputs": [],
   "source": [
    "pp = PrettyPrinter(color='layer')\n",
    "css_format = pp.css"
   ]
  },
  {
   "cell_type": "markdown",
   "metadata": {},
   "source": [
    "This is the simplest form and the result will be:"
   ]
  },
  {
   "cell_type": "code",
   "execution_count": 11,
   "metadata": {
    "collapsed": false
   },
   "outputs": [
    {
     "name": "stdout",
     "output_type": "stream",
     "text": [
      "\t\tmark {\n",
      "\t\t\tbackground:none;\n",
      "\t\t}\n",
      "\t\tmark.color {\n",
      "\t\t\tcolor: rgb(0, 0, 102);\n",
      "\t\t}\n"
     ]
    }
   ],
   "source": [
    "print(css_format)"
   ]
  },
  {
   "cell_type": "markdown",
   "metadata": {},
   "source": [
    "**Example \\#6** generating css with user defined color value:"
   ]
  },
  {
   "cell_type": "code",
   "execution_count": 12,
   "metadata": {
    "collapsed": true
   },
   "outputs": [],
   "source": [
    "pp = PrettyPrinter(color='layer', color_value='color_you_have_never_seen')\n",
    "css_format = pp.css"
   ]
  },
  {
   "cell_type": "markdown",
   "metadata": {},
   "source": [
    "Similar to last one, the result will be simple color marking, but with\n",
    "the user define value:"
   ]
  },
  {
   "cell_type": "code",
   "execution_count": 13,
   "metadata": {
    "collapsed": false
   },
   "outputs": [
    {
     "name": "stdout",
     "output_type": "stream",
     "text": [
      "\t\tmark {\n",
      "\t\t\tbackground:none;\n",
      "\t\t}\n",
      "\t\tmark.color {\n",
      "\t\t\tcolor: color_you_have_never_seen;\n",
      "\t\t}\n"
     ]
    }
   ],
   "source": [
    "print(css_format)"
   ]
  },
  {
   "cell_type": "markdown",
   "metadata": {},
   "source": [
    "**Example \\#7** generating css with rules:"
   ]
  },
  {
   "cell_type": "code",
   "execution_count": 14,
   "metadata": {
    "collapsed": true
   },
   "outputs": [],
   "source": [
    "rules = [\n",
    "    ('Nimisõnad', 'green'),\n",
    "    ('värvitakse', 'blue')\n",
    "]\n",
    "pp = PrettyPrinter(color='layer', color_value=rules)\n",
    "css_format = pp.css"
   ]
  },
  {
   "cell_type": "markdown",
   "metadata": {},
   "source": [
    "This simple program generates two mark color classes that define two\n",
    "sets of font color. :"
   ]
  },
  {
   "cell_type": "code",
   "execution_count": 15,
   "metadata": {
    "collapsed": false
   },
   "outputs": [
    {
     "name": "stdout",
     "output_type": "stream",
     "text": [
      "\t\tmark {\n",
      "\t\t\tbackground:none;\n",
      "\t\t}\n",
      "\t\tmark.color_0 {\n",
      "\t\t\tcolor: green;\n",
      "\t\t}\n",
      "\t\tmark.color_1 {\n",
      "\t\t\tcolor: blue;\n",
      "\t\t}\n"
     ]
    }
   ],
   "source": [
    "print(css_format)"
   ]
  },
  {
   "cell_type": "markdown",
   "metadata": {},
   "source": [
    "**Example \\#8** generating full css without rules :"
   ]
  },
  {
   "cell_type": "code",
   "execution_count": 16,
   "metadata": {
    "collapsed": true
   },
   "outputs": [],
   "source": [
    "AESTHETICS = {\n",
    "    'color': 'layer1',\n",
    "    'background': 'layer2',\n",
    "    'font': 'layer3',\n",
    "    'weight': 'layer4',\n",
    "    'italics': 'layer5',\n",
    "    'underline': 'layer6',\n",
    "    'size': 'layer7',\n",
    "    'tracking': 'layer8'\n",
    "}\n",
    "pp = PrettyPrinter(**AESTHETICS)\n",
    "css_format = pp.css"
   ]
  },
  {
   "cell_type": "markdown",
   "metadata": {},
   "source": [
    "This program returns the css default formatting for all the properties\n",
    "in AESTHETICS. :"
   ]
  },
  {
   "cell_type": "code",
   "execution_count": 17,
   "metadata": {
    "collapsed": false
   },
   "outputs": [
    {
     "name": "stdout",
     "output_type": "stream",
     "text": [
      "\t\tmark {\n",
      "\t\t\tbackground:none;\n",
      "\t\t}\n",
      "\t\tmark.tracking {\n",
      "\t\t\tletter-spacing: 0.03em;\n",
      "\t\t}\n",
      "\t\tmark.weight {\n",
      "\t\t\tfont-weight: bold;\n",
      "\t\t}\n",
      "\t\tmark.background {\n",
      "\t\t\tbackground-color: rgb(102, 204, 255);\n",
      "\t\t}\n",
      "\t\tmark.underline {\n",
      "\t\t\ttext-decoration: underline;\n",
      "\t\t}\n",
      "\t\tmark.font {\n",
      "\t\t\tfont-family: sans-serif;\n",
      "\t\t}\n",
      "\t\tmark.italics {\n",
      "\t\t\tfont-style: italic;\n",
      "\t\t}\n",
      "\t\tmark.size {\n",
      "\t\t\tfont-size: 120%;\n",
      "\t\t}\n",
      "\t\tmark.color {\n",
      "\t\t\tcolor: rgb(0, 0, 102);\n",
      "\t\t}\n"
     ]
    }
   ],
   "source": [
    "print(css_format)"
   ]
  }
 ],
 "metadata": {
  "anaconda-cloud": {},
  "kernelspec": {
   "display_name": "Python [default]",
   "language": "python",
   "name": "python3"
  },
  "language_info": {
   "codemirror_mode": {
    "name": "ipython",
    "version": 3
   },
   "file_extension": ".py",
   "mimetype": "text/x-python",
   "name": "python",
   "nbconvert_exporter": "python",
   "pygments_lexer": "ipython3",
   "version": "3.5.2"
  }
 },
 "nbformat": 4,
 "nbformat_minor": 1
}
