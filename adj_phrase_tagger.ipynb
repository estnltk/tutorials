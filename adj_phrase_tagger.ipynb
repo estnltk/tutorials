{
 "cells": [
  {
   "cell_type": "markdown",
   "metadata": {},
   "source": [
    "# AdjectivePhraseTagger\n",
    "\n",
    "A class that tags simple adjective phrases in the **Text** object.\n",
    "\n",
    "## Usage"
   ]
  },
  {
   "cell_type": "code",
   "execution_count": 1,
   "metadata": {
    "collapsed": false
   },
   "outputs": [],
   "source": [
    "from adjective_phrase_tagger.adj_phrase_tagger import AdjectivePhraseTagger\n",
    "from estnltk import Text"
   ]
  },
  {
   "cell_type": "markdown",
   "metadata": {},
   "source": [
    "Create **Text** object, **AdjectivePhraseTagger** object and tag adjective phrases as a new layer of the **Text** object."
   ]
  },
  {
   "cell_type": "code",
   "execution_count": 2,
   "metadata": {
    "collapsed": false
   },
   "outputs": [
    {
     "data": {
      "text/plain": [
       "[{'adverb_class': 'doubt',\n",
       "  'adverb_weight': 0.7,\n",
       "  'end': 17,\n",
       "  'intersects_with_verb': False,\n",
       "  'lemmas': ['peaaegu', '8aastane'],\n",
       "  'measurement_adj': True,\n",
       "  'start': 0,\n",
       "  'text': 'Peaaegu 8-aastane',\n",
       "  'type': 'adjective'},\n",
       " {'adverb_class': 'strong_intensifier',\n",
       "  'adverb_weight': 2,\n",
       "  'end': 59,\n",
       "  'intersects_with_verb': False,\n",
       "  'lemmas': ['väga', 'energiline', 'ja', 'mänguhimuline'],\n",
       "  'measurement_adj': False,\n",
       "  'start': 27,\n",
       "  'text': 'väga energiline ja mänguhimuline',\n",
       "  'type': 'adjective'}]"
      ]
     },
     "execution_count": 2,
     "metadata": {},
     "output_type": "execute_result"
    }
   ],
   "source": [
    "tagger = AdjectivePhraseTagger(return_layer=True) # return_layer=True returns only the adjective phrase layer\n",
    "sent = Text(\"Peaaegu 8-aastane koer oli väga energiline ja mänguhimuline.\")\n",
    "tagger.tag(sent)"
   ]
  },
  {
   "cell_type": "markdown",
   "metadata": {},
   "source": [
    "### Attributes that are given with the adjective phrases:\n",
    "\n",
    "**type** is the type of the phrase: \n",
    "* **adjective**: adjective is in its 'normal' (aka positive) form\n",
    "* **comparative**: contains a comparative adjective\n",
    "* **participle**: contains an adjective derived from a verb\n",
    "\n",
    "**measurement_adj** means that the adjective in the phrase either contains a number or some other type of measurement\n",
    "\n",
    "**intersects_with_verb** signifies whether the found adjective phrase intersects with a verb phrase in the text; this happens mostly in the case of participles as in the following sentence:"
   ]
  },
  {
   "cell_type": "code",
   "execution_count": 3,
   "metadata": {
    "collapsed": false
   },
   "outputs": [
    {
     "data": {
      "text/plain": [
       "[{'adverb_class': 'strong_intensifier',\n",
       "  'adverb_weight': 2,\n",
       "  'end': 21,\n",
       "  'intersects_with_verb': True,\n",
       "  'lemmas': ['väga', 'üllatunud'],\n",
       "  'measurement_adj': False,\n",
       "  'start': 7,\n",
       "  'text': 'väga üllatunud',\n",
       "  'type': 'participle'}]"
      ]
     },
     "execution_count": 3,
     "metadata": {},
     "output_type": "execute_result"
    }
   ],
   "source": [
    "tagger.tag(Text(\"Ta oli väga üllatunud.\"))"
   ]
  },
  {
   "cell_type": "markdown",
   "metadata": {},
   "source": [
    "**adverb_class** marks the intensity of the adverb in the phrase. Each class has also been assigned a weight (**adverb_weight**) noting its intensity. Currently there are 6 classes with their corresponding weights:\n",
    "* diminisher: 0.5\n",
    "* doubt: 0.7\n",
    "* affirmation: 1.5\n",
    "* strong_intensifier: 2\n",
    "* surprise: 3\n",
    "* excess: 3\n",
    "\n",
    "All the adverbs are not divided into classes, therefore some do have _unknow_ as **adverb_class** and **adverb_weight**."
   ]
  },
  {
   "cell_type": "markdown",
   "metadata": {},
   "source": [
    "### Example\n",
    "\n",
    "Adjective phrases can be used for sentiment analysis - determining the polarity of the text. While this is often done using only adjectives, the phrases consisting of an adverb and an adjective can give more precise results because adverbs in these kinds of phrases are usually some sort of intensifiers. For this purpose, the most frequent adverbs are already divided into classes and assigned weights based on their intensifying properties (see above)."
   ]
  },
  {
   "cell_type": "markdown",
   "metadata": {},
   "source": [
    "To illustrate this, let's build a very simple system for sentiment analysis. \n",
    "For this, we can use hinnavaatlus.csv dataset that contains user reviews and their ratings (positive, negative and neutral)."
   ]
  },
  {
   "cell_type": "markdown",
   "metadata": {},
   "source": [
    "First, let's extract adjectives from the user reviews and create separate frequency lists of adjectives appearing in positive and negative reviews."
   ]
  },
  {
   "cell_type": "code",
   "execution_count": 4,
   "metadata": {
    "collapsed": false
   },
   "outputs": [],
   "source": [
    "import csv\n",
    "from collections import defaultdict\n",
    "\n",
    "pos = {}\n",
    "neg = {}\n",
    "\n",
    "adjectives = defaultdict(lambda : defaultdict(int))\n",
    "\n",
    "with open('data/hinnavaatlus.csv', newline='') as csvfile:\n",
    "    reader = csv.reader(csvfile, delimiter=',', quotechar='\"')\n",
    "    \n",
    "    for idx, row in enumerate(reader):\n",
    "        tagged = tagger.tag(Text(row[1]))\n",
    "        label = row[2]\n",
    "        for tag in tagged:\n",
    "            if len(tag) > 0:  \n",
    "                adj = tag['lemmas'][-1]\n",
    "                adjectives[label][adj] += 1"
   ]
  },
  {
   "cell_type": "markdown",
   "metadata": {},
   "source": [
    "Of course, we can imagine that not all the adjectives used in positive reviews are positive and the same with negative reviews. To overcome this problem, we can use the [**volcanoplot**](https://github.com/estnltk/volcanoplot) (tutorial [**here**](https://github.com/estnltk/volcanoplot/blob/master/docs/postimees_tutorial.ipynb)) tool which visualises the two lists and helps us find over-represented words from both. For this, we need to save both lexicons into csv files."
   ]
  },
  {
   "cell_type": "code",
   "execution_count": 5,
   "metadata": {
    "collapsed": true
   },
   "outputs": [],
   "source": [
    "with open(\"neg.csv\", \"w\") as fout:\n",
    "    writer = csv.writer(fout, dialect = 'excel')\n",
    "    for row in adjectives['Negatiivne']:\n",
    "        writer.writerow([row, adjectives['Negatiivne'][row]])"
   ]
  },
  {
   "cell_type": "code",
   "execution_count": 6,
   "metadata": {
    "collapsed": true
   },
   "outputs": [],
   "source": [
    "with open(\"pos.csv\", \"w\") as fout:\n",
    "    writer = csv.writer(fout, dialect = 'excel')\n",
    "    for row in adjectives['Positiivne']:\n",
    "        writer.writerow([row, adjectives['Positiivne'][row]])"
   ]
  },
  {
   "cell_type": "markdown",
   "metadata": {},
   "source": [
    "From **volcanoplot** we save two lexicons - one for positive (data/positive.txt) and one for negative (data/negative.txt) words. \n",
    "Now let's decide that an adjective appearing in the positive lexicon has a score of 1 and an adjective in negative lexicon has a score of -1. Adjectives not present in either of the lexicons have a score 0."
   ]
  },
  {
   "cell_type": "code",
   "execution_count": 7,
   "metadata": {
    "collapsed": false
   },
   "outputs": [],
   "source": [
    "negative = []\n",
    "with open(\"data/negative.txt\", \"r\") as fin:\n",
    "    words = fin.readlines()\n",
    "    negative = set([word.strip() for word in words])\n",
    "\n",
    "positive = []\n",
    "with open(\"data/positive.txt\", \"r\") as fin:\n",
    "    words = fin.readlines()\n",
    "    positive = ([word.strip() for word in words])    "
   ]
  },
  {
   "cell_type": "markdown",
   "metadata": {},
   "source": [
    "Now we can assign a score to each adjective and compute weights to phrases containing of an adverb and an adjective by multiplying the score of an adjective by the weight of the preceding adverb. By summing the scores of all the phrases in a review, we can calculate the polarity of the review."
   ]
  },
  {
   "cell_type": "code",
   "execution_count": 8,
   "metadata": {
    "collapsed": false,
    "scrolled": true
   },
   "outputs": [
    {
     "name": "stdout",
     "output_type": "stream",
     "text": [
      "Kommentaar\n",
      "Total score:  0\n",
      "-----------------------------\n",
      "Väike, aga tubli firma!\n",
      "['väike']   0\n",
      "['tubli']   0\n",
      "Total score:  0\n",
      "-----------------------------\n",
      "väga hea firma\n",
      "['väga', 'hea']   2\n",
      "Total score:  2\n",
      "-----------------------------\n",
      "Viimasel ajal pole midagi halba öelda, aga samas ei konkureeri nad kuidagi Genneti, Ordiga ei hindadelt ega teeninduselt. Toorikute ja tindi ostmiseks samas hea koht ja kuna müüjaid on rohkem valima hakatud, siis võiks 2 ikka ära panna - tuleks 3 kui hinadele ei pandaks kirvest ja toodete saadavus oleks parem.\n",
      "['viimane']   0\n",
      "['halb']   0\n",
      "['hea']   1\n",
      "['hakatud']   -1\n",
      "['parem']   0\n",
      "Total score:  0\n",
      "-----------------------------\n",
      "Fotode kvaliteet väga pro ja \"jjk\" seal töötamise ajal leiti ikka paljudele asjadele väga meeldivad lahendused. Samas hilisem läpaka ost sujus ka väga meeldivalt - sain esialgse rahas ostusoovi vormistada ümber järelmaksule...äärmiselt asjalik teenindus.\n",
      "['hilisem']   1\n",
      "['esialgne']   1\n",
      "['äärmiselt', 'asjalik']   2\n",
      "['väga', 'meeldiv']   2\n",
      "Total score:  6\n",
      "-----------------------------\n",
      "Ainult positiivsed kogemused\n",
      "['positiivne']   1\n",
      "Total score:  1\n",
      "-----------------------------\n",
      "Viimane kord, kui käisin suutis leti taga askeldav ~60 aastane mees tegutseda nii aeglaselt, et minu seal veedetud 10min jooksul pani juba vähemalt 6-7 klienti putku. Garantiiga ka kurvad kogemused, neid poleks, saaks isegi kahe vast. Vihaseks ajab lihtsalt vahest nende teenindus!\n",
      "['viimane']   0\n",
      "['askeldav']   -1\n",
      "['aastane']   -1\n",
      "['veedetud']   -1\n",
      "['kurb']   -1\n",
      "['vihane']   -1\n",
      "Total score:  -5\n",
      "-----------------------------\n",
      "Väga head hinnad!!!\n",
      "['väga', 'hea']   2\n",
      "Total score:  2\n",
      "-----------------------------\n",
      "Väga head hinnad!!!\n",
      "['väga', 'hea']   2\n",
      "Total score:  2\n",
      "-----------------------------\n",
      "Olen ostnud sealt toorikuid, hea hind - abivalmis teenindus. Sai sealt ka üks Razeri hiir ostetud. Kogemus on hea.\n",
      "['ostnud']   1\n",
      "['hea']   1\n",
      "['abivalmis']   1\n",
      "['ostetud']   1\n",
      "['hea']   1\n",
      "Total score:  5\n",
      "-----------------------------\n"
     ]
    }
   ],
   "source": [
    "with open('data/hinnavaatlus.csv', newline='') as csvfile:\n",
    "    reader = csv.reader(csvfile, delimiter=',', quotechar='\"')\n",
    "    review_scores = {}\n",
    "    \n",
    "    for idx, row in enumerate(reader):\n",
    "        tagged = tagger.tag(Text(row[1]))\n",
    "        total_score = []\n",
    "        \n",
    "        if idx < 10:\n",
    "            print(row[1])\n",
    "        \n",
    "        for i in tagged:\n",
    "            if i['lemmas'][-1] in positive:\n",
    "                if 'adverb_weight' in i:\n",
    "                    score = 1*i['adverb_weight']\n",
    "                else:\n",
    "                    score = 1\n",
    "                    \n",
    "            elif i['lemmas'][-1] in negative:\n",
    "                if 'adverb_weight' in i:\n",
    "                    score = -1*i['adverb_weight']\n",
    "                else:\n",
    "                    score = -1    \n",
    "                    \n",
    "            else:\n",
    "                score = 0\n",
    "            if idx < 10:\n",
    "                print(i['lemmas'], ' ', score)\n",
    "            total_score.append(score)\n",
    "            \n",
    "        if idx < 10:\n",
    "            print(\"Total score: \", str(sum(total_score)))\n",
    "            print(\"-----------------------------\")\n",
    "\n",
    "        review_scores[row[1]] = sum(total_score)"
   ]
  },
  {
   "cell_type": "markdown",
   "metadata": {},
   "source": [
    "As we saved the reviews and their scores to the dict **review_scores**, we can sort it and find reviews that have the highest and lowest scores."
   ]
  },
  {
   "cell_type": "code",
   "execution_count": 9,
   "metadata": {
    "collapsed": false
   },
   "outputs": [],
   "source": [
    "from collections import OrderedDict\n",
    "sorted_scores = OrderedDict(sorted(review_scores.items(), key=lambda t: t[1], reverse = True))"
   ]
  },
  {
   "cell_type": "markdown",
   "metadata": {},
   "source": [
    "Let's print 5 most positive reviews:"
   ]
  },
  {
   "cell_type": "code",
   "execution_count": 10,
   "metadata": {
    "collapsed": false,
    "scrolled": false
   },
   "outputs": [
    {
     "name": "stdout",
     "output_type": "stream",
     "text": [
      "Väga viisakas koht, helitasin tellisin Creative Elite Pro sealt. Saadeti korralik arve sealt, järgmine päev oli postis ja siis järgmine päev juba kohal. Väga korralik.Pakk oli korralik, paks ja hea. Helikaart oli värske mitte kribitud ja kole. Minul on hea kogemus, väha head hinnad ja kiire asjaajamine. 11\n",
      "\n",
      "Lisaks vahelduseks ka ühe veidi positiivsema kommentaari. Ostsin sealt läpaka. Alguses oli küll veidi segadust, sest esimeses kohas oli soovitud mudel olemas, kuid pakendi kleeps oli lõhutud ning taaskleebitud. Igaks juhuks nõudsin sisu näidata ja kohe oli aru saada, et asi varem lahti käinud. Läpaka must läikiv pind oli paksult käejälgi täis ja ühest nurgast avastasin korraliku kukkumisjälje. Seepeale küsisin, et kas neil on mõnes salongis täiesti avamata pakendit. Helistati ja saadeti järgmisse kohta, kus küll oli antud mark olemas aga vale mudel. Kolmandas kohas lõpuks leiti see õige mudel ja tehti isegi 500.- alet. Kokkuvõttes jäin rahule, ringisõidetud aja ja bensukulu tasuti. Noh, lõpp hea kõik hea 4p :) 9\n",
      "\n",
      "Sain väga viisaka teeninduse osaliseks. Hiljuti sai veebi kaudu ostetud digikaamera Pentax Optio H90. Kättesaamisel panin aku laadima vastavalt kasutusjuhendile, kuid selgus, et see ei toimi ja aku jääb peale laadimist tühjaks. Järgmisel päeval pöördusin müügisalongi palvega vahetada kaup uue vastu või vähemalt asendada ajutisega. Tegemist oli oodatud sünnipäevakingitusega. Müüja naeratas vastutulelikult ja oli igati positiivne tütarlaps, aga vahetusest ja asendamisest keeldus. Selle asemel lubas ta saata katkise laadija koos kaameraga neljaks nädalaks ekspertiisi (teenindusesse). Ta selgitas lahkelt, et selline on kord, et ka värskelt müüdud kuid vigased tooted vaadatakse spetsialistide poolt kõigepealt üle ja siis otsustatakse kas parandada või vahetada.  8.5\n",
      "\n",
      "Suhtun loomupärase umbusuga netikaupmeestesse, 1A on senistest kogemustest üks parimaid. Kaup saabub alati täpselt, telefonitsi kauba saabumisest  informeerimine toimib laitmatult. Viimasel korral sattus mulle väikese tehnilise defektiga seade, lühike mõttevahetus meili teel, ja järgmisel päeval oli minu soovitud vahetusseade mind juba ootamas. Väga täpne, asjalik ja meeldiva teenindusega firma, soovitan! 8\n",
      "\n",
      "Tundub täiesti korralik veebipood, ostule eelnenud meiliga saadetud küsimustele vastati 10 minuti jooksul ja kauba sai kätte järgmisel päeval. Hinnad on oma 10% soodsamad kui suurtel kettidel, mis 800-1000-eurose kauba puhul on juba päris tuntav hinnavahe. Maksimumhinnet siiski ei paneks, kuna veebipoelt ootaks natuke põhjalikumaid tootekirjeldusi, samuti polnud olemasolev info 100% korrektne (infos oli, et külmkapp on A+ energiatarbega, tegelikult oli A++). Samuti oleks oodanud pärast maksmist mingisugust tagasisidet, nt et raha on laekunud ja kauba saab orienteeruvalt x ajal kätte (minu kogemuses oli järgmine kontakt juba kullerilt). Kokkuvõttes julgeks siiski soovitada. 8.0\n",
      "\n"
     ]
    }
   ],
   "source": [
    "for idx, i in enumerate(sorted_scores):\n",
    "    if idx < 5:\n",
    "        print(i, sorted_scores[i])\n",
    "        print()"
   ]
  },
  {
   "cell_type": "markdown",
   "metadata": {},
   "source": [
    "And 5 most negative reviews:"
   ]
  },
  {
   "cell_type": "code",
   "execution_count": 11,
   "metadata": {
    "collapsed": false
   },
   "outputs": [
    {
     "name": "stdout",
     "output_type": "stream",
     "text": [
      "Minu esimene tellimus sellest firmast jäi kohe ka viimaseks. Lugu oli selline (eile, s.o. 11. jaan. 2013. Tellisin 6. jaan. kolm asja, millest üks oli videokaart. Tolle viimase tarneajaks anti 2-7 tööpäeva. Okei, läks viis, sain kullerilt kauba kätte. Paki avamisel ilmnes, et tellitud videokaardi asemel oli pakki pandud hoopis teise firma ja märksa nõrgema hinnaklassi toode. Loomulikult reedese päeva õhtupoolikul, mil reageerimiseks juba ülinapilt aega. Saatelehel ilutses täiesti tuimalt tellitud, mitte muudetud toote nimi. Polnud midagi parata, tuli ise Õismäele kohale sõita, et asja uurida. Õnneks veel jõudsin vaatamata ummikutele. Kaks umbkeelset teenindajat maigutasid ainult suud. Küsisin, kuidas saab nii räigelt eksida - vale oli mitte ainult detaili mudel, vaid ka firmanimi. Vastuseks kuulsin mingit pobinat, et jah tuli neid õigeid siia vaid üks ja kellegi teise tellimus olnud justkui vaja kiiremini täita. Mida häma! Pakuti, et 6 päeva pärast saaksin õige kätte. Kui see pole petuskeem, siis mis see on? Mitte keegi ei võtnud minuga ühendust, et pärida, kas olen üldse taolise asendustootega nõus. See lihtsalt sokutati mulle vaikimisi. E- ja I-ajastul olnuks kõik võimalused kliendilt järele pärida, kas too soovib kauba puudumisel asendustoodet või loobub tellimusest. Midagi niisugust aga ei tehtud, üritati lihtsalt pähe määrida mingit odavamat, ilmselt seismajäänud rämpsu. Nõudsin raha tagasi. Õnneks ei tulnud mul ka palju vaielda, kuna käitusin resoluutselt. Vormistati tellimusraha tagasikande akt. Isiklikult ei soovita sellise firmaga tegemist teha. Kahtlusi tekitas juba tellimuse 'trackingu' (tellimuse täitmise jälgimine veebis) puudumine, mis on üldreeglina hämavate firmade tunnuseks. Kuna töötan ise õiguskaitseorganites, tegin kogu protsessist igaks juhuks nii dokumentaalsed väljavõtted kui ka fotod, et vajadusel oma õigust nõuda. Firma esindajad isegi ei vabandanud. Igaüks võib teha omad järeldused. -9\n",
      "\n",
      "Väga negatiivsed emotsioonid - kui ostjalt raha käes, siis on sõprus läbi. Ise loll - ostsin eile õhtul Järve poest Trusti UPS-i. Minu arvuti toiteblokk sellega tööle ei hakanud. Mõtlesin juba, et toiteblokk läks läbi. UPS näitas, et kõik OK, ei ülekoormust ega midagi. Püüdsin täna tagasi viia (maksin sularahas), mille peale mind saadeti pikalt, et miks ma ostes oma arvuti konfiguratsiooni ei esitanud jne. Samas et teadnud seal keegi internetti süvenemata isegi seda, mitu W karbil lubatud 800VA välja annab. Vahest ei ole mul otsest õigust toimimatu riista eest raha tagasi saada, aga niimioodi kliendiga ei käituta! Seega: \"Hoidke eemale!\"  Ei mingit koolitust müüjatel, põrgulik garantii, ainult head müügikohad. -6\n",
      "\n",
      "Täiesti mõttetu firma, peaks mainima. Millegipärast annab alati siin Hinnavaatluses odavaima hinna, kuid kui helistades sinna, siis tuleb välja, et kunagi seda õiget asja ei ole ja pakutakse tunduvalt kallimat ja teise firma toodet. Jätab täpselt sellise mulje, et muudmoodi kliente enam sinna urkasse ei meelita, kui valetades hinnad odavamaks kui muidu on. Parkimisvõimalused on praktiliselt olematud ja üldse jätab sellise umbkeelse ja kohe kohe pankrotti mineva firma mulje. Seega, kui näete siin mingit toodet, mis on neil \"soodsaima\" hinnaga, siis helistage igaks juhuks üle, sest kohaleminnes võib teid oodata üllatus, et õiget kaupa polegi. Samas olete aga raisanud oma aega ja närve. -5.5\n",
      "\n",
      "95% külastustest on suhtumine olnud üleolev ja samas asjatundmatu. Komplekteeritud arvuti pidi saama nädalaga kätte.. nädal hiljem kohale minnes sõimati , et kui valmis, siis helistatakse. Helistatigi ja öeldi, et soovitud mälu neil tegelikult ei pakuta ja variant on panna uus (256 asemel 512mb) ja see võtab aega 2 nädalat- ei vabandamist, ei hinnasoodustust. Kättesaades oli 192mb RAM'i.. nüüdseks see arvuti enam ei ela, sest koostekvaliteet oli nii kehv, et põles maha.. Tõsiselt kehv koht! -5\n",
      "\n",
      "Lasin komplekteerida arvuti, kätte saades ja igaks juhuks lahti kruvides, selgus, et kaane lahtikeeramine oli ülimalt vajalik. Arvuti korpuse sees oli kaks pisikest kruvi, mis olid jäänud DVD-lugejale külge keeramata ja olid emaplaadile mingite kondekate vahele kinni jäänud. Ei kujutagi ette mis oleks arvuti vooluvõrku ühendamisel juhtunud, arvatavasti oleks emaplaat läbi põlenud, kui lahtisi kruvikesi poleks enne arvuti vooluvõrku ühendamist leidnud -5\n",
      "\n"
     ]
    }
   ],
   "source": [
    "for idx, i in enumerate(OrderedDict(reversed(list(sorted_scores.items())))):\n",
    "    if idx < 5:\n",
    "        print(i, sorted_scores[i])\n",
    "        print()"
   ]
  }
 ],
 "metadata": {
  "anaconda-cloud": {},
  "kernelspec": {
   "display_name": "Python 3",
   "language": "python",
   "name": "python3"
  },
  "language_info": {
   "codemirror_mode": {
    "name": "ipython",
    "version": 3
   },
   "file_extension": ".py",
   "mimetype": "text/x-python",
   "name": "python",
   "nbconvert_exporter": "python",
   "pygments_lexer": "ipython3",
   "version": "3.5.2"
  }
 },
 "nbformat": 4,
 "nbformat_minor": 0
}
