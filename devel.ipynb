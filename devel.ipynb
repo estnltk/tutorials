{
 "cells": [
  {
   "cell_type": "code",
   "execution_count": 1,
   "metadata": {
    "collapsed": true
   },
   "outputs": [],
   "source": [
    "# TODO: decide if this is still relevant and up to date"
   ]
  },
  {
   "cell_type": "markdown",
   "metadata": {},
   "source": [
    "Estnltk developer guide\n",
    "=======================\n",
    "\n",
    "This document is for everyone who is working on Estnltk project (or\n",
    "wishes to work), but do not know how to get started.\n",
    "\n",
    "Compiling estnltk\n",
    "-----------------"
   ]
  },
  {
   "cell_type": "markdown",
   "metadata": {},
   "source": [
    "    python setup.py build\n",
    "    python3 setup.py build"
   ]
  },
  {
   "cell_type": "markdown",
   "metadata": {},
   "source": [
    "Version control and branches\n",
    "----------------------------\n",
    "\n",
    "We have three repositories where we store Estnltk code: you should push/pull every time from all of them to make them synced.\n",
    "\n",
    "First, modify your `.git/setup` configuration to look like following:"
   ]
  },
  {
   "cell_type": "raw",
   "metadata": {},
   "source": [
    "[core]\n",
    "    repositoryformatversion = 0\n",
    "    filemode = true\n",
    "    bare = false\n",
    "    logallrefupdates = true\n",
    "[remote \"github\"]\n",
    "    url = git@github.com:estnltk/estnltk.git\n",
    "    fetch = +refs/heads/*:refs/remotes/github/*\n",
    "[remote \"ut\"]\n",
    "    url = git@estnltk.cs.ut.ee:timo/estnltk.git\n",
    "    fetch = +refs/heads/*:refs/remotes/ut/*\n",
    "[remote \"keeleressursid\"]\n",
    "    url = git@gitlab.keeleressursid.ee:timo-petmanson/estnltk.git\n",
    "    fetch = +refs/heads/*:refs/remotes/keeleressursid/*\n",
    "[remote \"origin\"]\n",
    "    url = git@github.com:estnltk/estnltk.git\n",
    "    url = git@estnltk.cs.ut.ee:timo/estnltk.git\n",
    "    url = git@gitlab.keeleressursid.ee:timo-petmanson/estnltk.git\n",
    "[branch \"master\"]\n",
    "    remote = origin\n",
    "    merge = refs/heads/master\n",
    "[branch \"devel\"]\n",
    "    remote = origin\n",
    "    merge = refs/heads/devel"
   ]
  },
  {
   "cell_type": "markdown",
   "metadata": {},
   "source": [
    "Second, use commands:"
   ]
  },
  {
   "cell_type": "markdown",
   "metadata": {},
   "source": [
    "    git push origin master\n",
    "    git pull origin master"
   ]
  },
  {
   "cell_type": "markdown",
   "metadata": {},
   "source": [
    "to perform pulls and pushes to both repositories without no extra\n",
    "hassle.\n",
    "\n",
    "Third, your're done! ;)"
   ]
  },
  {
   "cell_type": "markdown",
   "metadata": {},
   "source": [
    "### Checking out devel branch\n",
    "\n",
    "Try this:"
   ]
  },
  {
   "cell_type": "markdown",
   "metadata": {},
   "source": [
    "    git branch -a\n",
    "    git checkout -t devel origin/devel\n",
    "    git pull\n",
    "    git checkout devel\n",
    "    git branch -a"
   ]
  },
  {
   "cell_type": "markdown",
   "metadata": {},
   "source": [
    "You should see something similar as output:"
   ]
  },
  {
   "cell_type": "raw",
   "metadata": {},
   "source": [
    "* devel\n",
    "  master\n",
    "  timo_dev\n",
    "  remotes/github/devel\n",
    "  remotes/github/gh-pages\n",
    "  remotes/github/master\n",
    "  remotes/github/timo_dev\n",
    "  remotes/keeleressursid/devel\n",
    "  remotes/keeleressursid/master\n",
    "  remotes/origin/master\n",
    "  remotes/ut/devel\n",
    "  remotes/ut/master"
   ]
  },
  {
   "cell_type": "markdown",
   "metadata": {},
   "source": [
    "Important thing is that you see `\"* devel\"` ."
   ]
  },
  {
   "cell_type": "markdown",
   "metadata": {},
   "source": [
    "Writing documentation\n",
    "---------------------\n",
    "\n",
    "Documentation resides under docs folder of estnltk and is generated\n",
    "using [Sphinx](http://sphinx-doc.org/) document generator.\n",
    "\n",
    "### Setting up Sphinx\n",
    "\n",
    "To install Sphinx on your system, issue following commands:"
   ]
  },
  {
   "cell_type": "markdown",
   "metadata": {},
   "source": [
    "    sudo pip3 install Sphinx\n",
    "    sudo pip3 install numpydoc"
   ]
  },
  {
   "cell_type": "markdown",
   "metadata": {},
   "source": [
    "Next, open file `docs/conf.py` and find the line:"
   ]
  },
  {
   "cell_type": "raw",
   "metadata": {},
   "source": [
    "sys.path.insert(0, '/home/timo/projects/estnltk')"
   ]
  },
  {
   "cell_type": "markdown",
   "metadata": {},
   "source": [
    "Add a second line there, which tells where estnltk is installed on your\n",
    "system. For example, if your user name is `estnltkdeveloper` and estnltk\n",
    "is in your home folder, add:"
   ]
  },
  {
   "cell_type": "raw",
   "metadata": {},
   "source": [
    "sys.path.insert(0, '/home/estnltkdeveloper/estnltk')"
   ]
  },
  {
   "cell_type": "markdown",
   "metadata": {},
   "source": [
    "After that, move to the docs folder and run:"
   ]
  },
  {
   "cell_type": "markdown",
   "metadata": {},
   "source": [
    "    make html"
   ]
  },
  {
   "cell_type": "markdown",
   "metadata": {},
   "source": [
    "Now Sphinx builds the documentation and stores it in `docs/build/html`\n",
    "subfolder."
   ]
  },
  {
   "cell_type": "markdown",
   "metadata": {},
   "source": [
    "### Distributing the documentation to Github pages\n",
    "\n",
    "If you type `git branch -a`, you should see a remote branch\n",
    "`remotes/github/gh-pages` containing content that is served at\n",
    "<http://estnltk.github.io/estnltk/> . This branch does not contain any\n",
    "code, so check it out into another directory in order to work with it.\n",
    "Then, create a subfolder with the appropriate estnltk version and copy\n",
    "the new documentation there.\n",
    "\n",
    "Creating releases\n",
    "-----------------\n",
    "\n",
    "### Linux"
   ]
  },
  {
   "cell_type": "markdown",
   "metadata": {},
   "source": [
    "    ./clean.sh\n",
    "    python setup.py build\n",
    "    python setup.py build # yes, two times for now!\n",
    "    python setup.py bdist_wheel\n",
    "    python setup.py sdist\n",
    "    python setup.py upload"
   ]
  },
  {
   "cell_type": "markdown",
   "metadata": {},
   "source": [
    "### Windows\n",
    "\n",
    "To be able to build on Windows, you will need to install a compatible\n",
    "Microsoft Visual C++ compiler for each version of Python. For more\n",
    "details please refer to <https://wiki.python.org/moin/WindowsCompilers>.\n",
    "\n",
    "**Compiling with Python 2.7**\n",
    "\n",
    "Install Microsoft Visual C++ Compiler for Python 2.7 from\n",
    "<https://www.microsoft.com/en-us/download/details.aspx?id=44266>\n",
    "\n",
    "32-bit:"
   ]
  },
  {
   "cell_type": "markdown",
   "metadata": {},
   "source": [
    "    call \"C:\\Users\\distorti\\AppData\\Local\\Programs\\Common\\Microsoft\\Visual C++ for Python\\9.0\\vcvarsall.bat\" x86"
   ]
  },
  {
   "cell_type": "markdown",
   "metadata": {},
   "source": [
    "64-bit:"
   ]
  },
  {
   "cell_type": "markdown",
   "metadata": {},
   "source": [
    "    call \"C:\\Users\\distorti\\AppData\\Local\\Programs\\Common\\Microsoft\\Visual C++ for Python\\9.0\\vcvarsall.bat x64"
   ]
  },
  {
   "cell_type": "markdown",
   "metadata": {},
   "source": [
    "Then build as usual:"
   ]
  },
  {
   "cell_type": "markdown",
   "metadata": {},
   "source": [
    "    python setup.py build\n",
    "    python setup.py build\n",
    "    python setup.py bdist_wheel"
   ]
  },
  {
   "cell_type": "markdown",
   "metadata": {},
   "source": [
    "**Compiling with Python 3.4**\n",
    "\n",
    "Install Microsoft Visual C++ 10.0 compiler as described at\n",
    "<https://wiki.python.org/moin/WindowsCompilers>\n",
    "\n",
    "32-bits:"
   ]
  },
  {
   "cell_type": "markdown",
   "metadata": {},
   "source": [
    "    call \"C:\\Program Files\\Microsoft SDKs\\Windows\\v7.1\\Bin\\SetEnv.cmd\" /x86"
   ]
  },
  {
   "cell_type": "markdown",
   "metadata": {},
   "source": [
    "64-bits:"
   ]
  },
  {
   "cell_type": "markdown",
   "metadata": {},
   "source": [
    "    call \"C:\\Program Files\\Microsoft SDKs\\Windows\\v7.1\\Bin\\SetEnv.cmd\" /x64"
   ]
  },
  {
   "cell_type": "markdown",
   "metadata": {},
   "source": [
    "If you stumble across an error like\n",
    "\n",
    "> ... c:Program Files (x86)Microsoft Visual Studio\n",
    "> 10.0VCINCLUDEintrin.h(26) : fatal error C1083: Cannot open include\n",
    "> file: 'ammintrin.h': No such file or ...\n",
    "\n",
    "you are missing a file \"ammintrin.h\" in \"c:Program Files (x86)Microsoft\n",
    "Visual Studio 10.0VCINCLUDE\". As a quick fix, download it from\n",
    "<http://se.mathworks.com/matlabcentral/answers/90383-fix-problem-when-mex-cpp-file>.\n",
    "\n",
    "Then build as usual:"
   ]
  },
  {
   "cell_type": "markdown",
   "metadata": {},
   "source": [
    "    python setup.py build\n",
    "    python setup.py build\n",
    "    python setup.py bdist_wheel"
   ]
  },
  {
   "cell_type": "markdown",
   "metadata": {},
   "source": [
    "**Compiling with Python 3.5**\n",
    "\n",
    "Install Microsoft Visual C++ 14.0 compiler as described at\n",
    "<https://wiki.python.org/moin/WindowsCompilers>\n",
    "\n",
    "32-bit:"
   ]
  },
  {
   "cell_type": "markdown",
   "metadata": {},
   "source": [
    "    call \"C:\\Program Files (x86)\\Microsoft Visual C++ Build Tools\\vcbuildtools.bat\" x86"
   ]
  },
  {
   "cell_type": "markdown",
   "metadata": {},
   "source": [
    "64-bit:"
   ]
  },
  {
   "cell_type": "markdown",
   "metadata": {},
   "source": [
    "    call \"C:\\Program Files (x86)\\Microsoft Visual C++ Build Tools\\vcbuildtools.bat\" x64"
   ]
  },
  {
   "cell_type": "markdown",
   "metadata": {},
   "source": [
    "TODO: Currently this fails for some reason\n",
    "\n",
    "Then build as usual:"
   ]
  },
  {
   "cell_type": "markdown",
   "metadata": {},
   "source": [
    "    python setup.py build\n",
    "    python setup.py build\n",
    "    python setup.py bdist_wheel"
   ]
  }
 ],
 "metadata": {
  "anaconda-cloud": {},
  "kernelspec": {
   "display_name": "Python [default]",
   "language": "python",
   "name": "python3"
  },
  "language_info": {
   "codemirror_mode": {
    "name": "ipython",
    "version": 3
   },
   "file_extension": ".py",
   "mimetype": "text/x-python",
   "name": "python",
   "nbconvert_exporter": "python",
   "pygments_lexer": "ipython3",
   "version": "3.5.2"
  }
 },
 "nbformat": 4,
 "nbformat_minor": 1
}
