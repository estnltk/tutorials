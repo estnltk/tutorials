{
 "cells": [
  {
   "cell_type": "markdown",
   "metadata": {},
   "source": [
    "Installation\n",
    "============\n",
    "\n",
    "Estnltk works with Python versions 2.7 and 3.4 on Windows and Linux.\n",
    "\n",
    "Installation on Linux Mint 17.2\n",
    "-------------------------------\n",
    "\n",
    "In Linux, install dependences, install estnltk and test the\n",
    "installation:"
   ]
  },
  {
   "cell_type": "markdown",
   "metadata": {},
   "source": [
    "    sudo apt-get install g++ python3-dev python3-pip python3-wheel python3-numpy swig\n",
    "    sudo pip3 install estnltk"
   ]
  },
  {
   "cell_type": "markdown",
   "metadata": {},
   "source": [
    "As a first test, try to run this line of code in your terminal:"
   ]
  },
  {
   "cell_type": "markdown",
   "metadata": {},
   "source": [
    "    python3 -c \"import estnltk; print( estnltk.Text('Tere estnltk').lemmas )\""
   ]
  },
  {
   "cell_type": "markdown",
   "metadata": {},
   "source": [
    "It should print:"
   ]
  },
  {
   "cell_type": "markdown",
   "metadata": {},
   "source": [
    "    [nltk_data] Downloading package punkt to /home/user/nltk_data...\n",
    "    [nltk_data]   Unzipping tokenizers/punkt.zip.\n",
    "    ['tere', 'estnltk']"
   ]
  },
  {
   "cell_type": "markdown",
   "metadata": {},
   "source": [
    "You see that NLTK data is being dowloaded on first use of the library.\n",
    "Then, run the unittest suite:"
   ]
  },
  {
   "cell_type": "markdown",
   "metadata": {},
   "source": [
    "    python3 -m estnltk.run_tests"
   ]
  },
  {
   "cell_type": "markdown",
   "metadata": {},
   "source": [
    "This should report the number of tests run and the status. If it is\n",
    "\"OK\", then you are good to go:"
   ]
  },
  {
   "cell_type": "markdown",
   "metadata": {},
   "source": [
    "    Ran 157 tests in 35.207s\n",
    "\n",
    "    OK"
   ]
  },
  {
   "cell_type": "markdown",
   "metadata": {},
   "source": [
    "Although this is Linux Mint 17.2 specific, it should also work in\n",
    "Ubuntu.\n",
    "\n",
    "(Optional) You might want to use Oracle JDK instead of OpenJDK, because\n",
    "Estnltk uses Java for some tasks. These tutorials will help you install\n",
    "it: <http://community.linuxmint.com/tutorial/view/1372> ,\n",
    "<http://community.linuxmint.com/tutorial/view/1091> .\n"
   ]
  },
  {
   "cell_type": "markdown",
   "metadata": {},
   "source": [
    "Installation on Windows\n",
    "-----------------------\n",
    "\n",
    "The process involves installation of the pre-compiled version of estnltk\n",
    "and its dependencies so that no compiler is required. We assume you have\n",
    "python 3.4 installed and run a 64-bit Windows OS. Installation on a\n",
    "32-bit platform is identical.\n",
    "\n",
    "First, obtain the required packages:\n",
    "\n",
    "-   numpy-1.10.0b1+mkl-cp34-none-win\\_amd64.whl from\n",
    "    <http://www.lfd.uci.edu/~gohlke/pythonlibs/>\n",
    "-   python\\_crfsuite-0.8.3-cp34-none-win\\_amd64.whl from\n",
    "    <https://github.com/estnltk/estnltk/blob/version1.4/dist/python-crfsuite>\n",
    "-   estnltk-1.4-cp34-cp34m-win\\_amd64.whl from\n",
    "    <https://github.com/estnltk/estnltk/releases>\n",
    "\n",
    "Next, install the dependencies and estnltk:"
   ]
  },
  {
   "cell_type": "markdown",
   "metadata": {},
   "source": [
    "    python.exe -m pip install numpy-1.10.0b1+mkl-cp34-none-win_amd64.whl\n",
    "    python.exe -m pip install python_crfsuite-0.8.3-cp34-none-win_amd64.whl\n",
    "    python.exe -m pip install estnltk-1.4-cp34-cp34m-win_amd64.whl"
   ]
  },
  {
   "cell_type": "markdown",
   "metadata": {},
   "source": [
    "Make sure the installation was successfull by running:"
   ]
  },
  {
   "cell_type": "markdown",
   "metadata": {},
   "source": [
    "    python.exe -c \"import estnltk; print( estnltk.Text('Tere estnltk').lemmas )\""
   ]
  },
  {
   "cell_type": "markdown",
   "metadata": {},
   "source": [
    "which should output:"
   ]
  },
  {
   "cell_type": "markdown",
   "metadata": {},
   "source": [
    "    [nltk_data] Downloading package punkt to /home/user/nltk_data...\n",
    "    \n",
    "    [nltk_data] Unzipping tokenizers/punkt.zip.\n",
    "    \n",
    "    ['tere', 'estnltk']"
   ]
  },
  {
   "cell_type": "markdown",
   "metadata": {},
   "source": [
    "Finally, run the unittests:"
   ]
  },
  {
   "cell_type": "markdown",
   "metadata": {},
   "source": [
    "    python.exe -m estnltk.run_tests"
   ]
  },
  {
   "cell_type": "markdown",
   "metadata": {},
   "source": [
    "This should report the number of tests run and the status. If the status\n",
    "is \"OK\", then you are good to go:"
   ]
  },
  {
   "cell_type": "markdown",
   "metadata": {},
   "source": [
    "    Ran 157 tests in 35.207s\n",
    "\n",
    "    OK"
   ]
  },
  {
   "cell_type": "markdown",
   "metadata": {},
   "source": [
    "Full list of dependencies\n",
    "-------------------------\n",
    "\n",
    "**Python with development headers.** <https://www.python.org/> . The\n",
    "most obvious dependency of course is Python itself. Estnltk currently\n",
    "supports *versions 2.7 and 3.4*. Other versions may work as well, but\n",
    "are not tested. Python installer for Windows includes the development\n",
    "headers that are saved to the Python folder. In Linux, depending on the\n",
    "flavor and distribution, you usually have to install the headers\n",
    "separately. Either by building the Python from source or using a package\n",
    "manager. The package is typically named `python-dev` for Python 2 and\n",
    "`python3-dev` for Python3.\n",
    "\n",
    "**SWIG wrapper generator**, <http://swig.org/> . SWIG is a software\n",
    "development tool that connects programs written in C and C++ with a\n",
    "variety of high-level programming languages. SWIG is used with different\n",
    "types of target languages including common scripting languages such as\n",
    "Javascript, Perl, PHP, Python, Tcl and Ruby. Estnltk contains C++ code\n",
    "that uses SWIG to extend Python. In Linux, this package is usually named\n",
    "`swig` and can be installed with a package manager.\n",
    "\n",
    "**C++ compiler**. In *Linux* systems, Estnltk can be built using GNU C++\n",
    "compiler which can be installed with a package manager. Typically the\n",
    "package is named `g++`. It is also possible to manually download the\n",
    "compiler from <https://gcc.gnu.org/> .\n",
    "\n",
    "In *Windows*, we recommend using Visual Studio 2008 for Python2.7 and\n",
    "Visual Studio 2010 for Python3.4. Note that for 64-bit versions you need\n",
    "to have also 64-bit toolchains, which are not included in Express\n",
    "versions of the Visual Studio. We recommend downloading the full Visual\n",
    "Studio SDK and performing the building process through the Visual studio\n",
    "command prompt interface.\n",
    "\n",
    "**Java VM**. Several Estnltk components are written in Java and\n",
    "interfaced with Python. Therefore, you also need latest Java Runtime\n",
    "installed on your system. The `java` virtual machine must be in the\n",
    "system `PATH`. We recommend using Oracle Java\n",
    "<http://www.oracle.com/technetwork/java/javase/downloads/index.html>,\n",
    "although alternatives such as OpenJDK (<http://openjdk.java.net/>)\n",
    "should also work.\n",
    "\n",
    "**Elasticsearch server**. Estnltk database module has a wrapper around\n",
    "Elastic database. In order to use Elastic, see\n",
    "<https://www.elastic.co/products/elasticsearch> .\n",
    "\n",
    "**setuptools**. <https://pypi.python.org/pypi/setuptools> . A popular\n",
    "toolchain to build Python packages. In Linux package managers, typically\n",
    "called `python-setuptools` .\n",
    "\n",
    "**Numpy/Scipy stack**. <http://www.scipy.org/install.html> We include\n",
    "numpy/scipy in this list as it is quite difficult to build it from\n",
    "scratch due to ATLAS/BLAS dependencies. Thus, we recommend installing a\n",
    "pre-built binaries (see <http://www.scipy.org/install.html>).\n",
    "\n",
    "**python-crfsuite (version 0.8.3)**. Conditional random field library.\n",
    "There should be no problems building it automatically, but just in case\n",
    "we have included pre-built binaries in our repository:\n",
    "<https://github.com/estnltk/estnltk/tree/master/dist/python-crfsuite> .\n",
    "\n",
    "**Other dependencies**\n",
    "\n",
    "The rest of the dependencies should be easy to build, but just in case\n",
    "they wont, here is the list of their names and precise version required\n",
    "by Estnltk.\n",
    "\n",
    "Windows users should check out Christoph Gohlke's website:\n",
    "<http://www.lfd.uci.edu/~gohlke/pythonlibs/> , that contains an\n",
    "marvellous list of pre-built binaries, including the ones required by\n",
    "Estnltk.\n",
    "\n",
    "-   **regex (version 2015.07.19)**\n",
    "-   **six (version 1.9.0)**\n",
    "-   **nltk (version 3.0.4)**\n",
    "-   **pandas (version 0.16.2)**\n",
    "-   **cached-property (version 1.2.0)**\n",
    "-   **beautifulsoup4 (version 4.4.0)**\n",
    "-   **elasticsearch (1.6.0)**\n",
    "-   **html5lib (0.9999999)**\n",
    "\n",
    "Building from source\n",
    "--------------------\n",
    "\n",
    "First thing after installing the dependencies is to get the source. One\n",
    "option is cloing the repository using latest code:"
   ]
  },
  {
   "cell_type": "markdown",
   "metadata": {},
   "source": [
    "    git clone https://github.com/estnltk/estnltk estnltk"
   ]
  },
  {
   "cell_type": "markdown",
   "metadata": {},
   "source": [
    "Then, issue following commands in the cloned folder to build and\n",
    "install:"
   ]
  },
  {
   "cell_type": "markdown",
   "metadata": {},
   "source": [
    "    python3 setup.py build\n",
    "    sudo python3 setup.py install"
   ]
  },
  {
   "cell_type": "markdown",
   "metadata": {},
   "source": [
    "Note that `python` usually refers to default Python version installed\n",
    "with the system. Usually, you can also use more specific versions by\n",
    "replacing `python` with `python2.7` or `python3.4`. Note that the same\n",
    "commands work when building in Windows, but you need to execute them in\n",
    "Visual Studio SDK command prompt.\n",
    "\n",
    "If you want to set up estnltk for development, see developer\\_guide."
   ]
  },
  {
   "cell_type": "markdown",
   "metadata": {},
   "source": [
    "Post-installation steps\n",
    "-----------------------\n",
    "\n",
    "Downloading NLTK tokenizers for Estonian. These are necessary for\n",
    "tokenization. This should happen automatically, but if it does not, use\n",
    "this command to download them:"
   ]
  },
  {
   "cell_type": "markdown",
   "metadata": {},
   "source": [
    "    python3 -m nltk.downloader punkt"
   ]
  },
  {
   "cell_type": "markdown",
   "metadata": {},
   "source": [
    "Estnltk comes with pre-built named entity taggers, but you can\n",
    "optionally rebuild them if you have lost them for some reason. The\n",
    "command to build the default named entity tagger for Estonian:"
   ]
  },
  {
   "cell_type": "markdown",
   "metadata": {},
   "source": [
    "    python3 -m estnltk.tools.train_default_ner_model"
   ]
  }
 ],
 "metadata": {
  "anaconda-cloud": {},
  "kernelspec": {
   "display_name": "Python [default]",
   "language": "python",
   "name": "python3"
  },
  "language_info": {
   "codemirror_mode": {
    "name": "ipython",
    "version": 3
   },
   "file_extension": ".py",
   "mimetype": "text/x-python",
   "name": "python",
   "nbconvert_exporter": "python",
   "pygments_lexer": "ipython3",
   "version": "3.5.2"
  }
 },
 "nbformat": 4,
 "nbformat_minor": 1
}
