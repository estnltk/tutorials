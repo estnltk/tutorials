{
 "cells": [
  {
   "cell_type": "markdown",
   "metadata": {},
   "source": [
    "# Terminal Prettyprinter\n",
    "\n",
    "In addition to HTML pretty-printing capabilities, Estnltk also provides means for visualizing annotations in terminal: bracketing annotations, displaying annotations in a custom color font, and/or underlining annotations.\n",
    "\n",
    "## Basic usage\n",
    "\n",
    "A straight-forward prettyprinting can be performed via the method `tprint()`, which takes three input arguments: a `Text` object, a list of layer names (text annotation layers to be visualized), and list of dicts containing formatting options (how each layer should be visualized), and outputs formatted text to the terminal. Example:"
   ]
  },
  {
   "cell_type": "markdown",
   "metadata": {},
   "source": [
    "```python\n",
    "from estnltk import Text\n",
    "from estnltk.prettyprinter.terminalprettyprinter import tprint\n",
    "\n",
    "text = Text('''Eesti Vabariik on riik Põhja-Euroopas.\n",
    "Eesti piirneb põhjas üle Soome lahe Soome Vabariigiga.\n",
    "Riigikogu on Eesti Vabariigi parlament. Riigikogule kuulub Eestis seadusandlik võim.\n",
    "2005. aastal sai peaministriks Andrus Ansip, kes püsis sellel kohal 2014. aastani.\n",
    "2006. aastal valiti presidendiks Toomas Hendrik Ilves.\n",
    "''').tag_all()\n",
    "\n",
    "# Print text in a manner that:\n",
    "#  1) clauses are bracketed,\n",
    "#  2) verb chains are underlined,\n",
    "#  3) timexes are colored white,\n",
    "#  4) named entities are colored green;\n",
    "tprint( text, ['clauses', 'verb_chains', 'timexes', 'named_entities'], [{'bracket':True},{'underline':True},{'color':'white'},{'color':'green'}] )\n",
    "```"
   ]
  },
  {
   "cell_type": "markdown",
   "metadata": {},
   "source": [
    "Note that using `tprint()` requires that the layers of annotations to be visualized are already tagged in the input `Text` object -- if some visualizable layer is missing in the input text, the method exits with an error.\n",
    "\n",
    "The previous example produces the following output (in a Windows terminal):\n",
    "\n",
    "![tp_example_1](_static/terminalprettyprinter_example_1.png)\n",
    "\n",
    "The list of annotation options must be same size as the list of layer names, individually specifying how each layer should be formatted. The pretty-printing function currently supports the following formatting options:\n",
    "\n",
    "* ``'underline'`` (shortcut: ``'u'``) -- boolean indicating whether annotations of given layer should be underlined;\n",
    "* ``'bracket'`` (shortcut: ``'b'``) -- boolean indicating whether annotations of given layer should be bracketed;\n",
    "* ``'color'`` (shortcut: ``'c'``) -- string indicating color of the font in which the annotation is to be displayed; Supported color names: ``'red'``, ``'blue'``, ``'green'``, ``'white'``, ``'cyan'``, ``'purple'``, ``'yellow'``, ``'teal'``, ``'darkpurple'``, ``'darkblue'``, ``'olive'``, ``'darkgreen'``, ``'darkred'``, ``'grey'`` ;\n",
    "\n",
    "     "
   ]
  },
  {
   "cell_type": "markdown",
   "metadata": {},
   "source": [
    "   \n",
    "### *Limitations of terminal prettyprinting*\n",
    "\n",
    "Graphical formatting of annotations (changing color of the text, and/or underlining annotations) can only be used in a terminal that interprets *ANSI escape sequences* as text formatting commands. Not all terminals support these commands, e.g. Python's IDLE environment lacks the support. If the terminal does not support graphical formatting, the only viable terminal-based visualization option is to surround the annotations with brackets; using any other option (e.g. font coloring) will simply produce text mingled with unexecuted ANSI escape sequences."
   ]
  },
  {
   "cell_type": "markdown",
   "metadata": {},
   "source": [
    "## Default formatting\n",
    "\n",
    "The method `tprint()` comes with a set of predefined formatting options, in which all annotations are bracketed and different layers are distinguished by distinct font coloring. In order to use the default settings, simply skip the third argument of the method:\n",
    "\n",
    "```python\n",
    "from estnltk import Text\n",
    "from estnltk.prettyprinter.terminalprettyprinter import tprint\n",
    "\n",
    "text = Text('''Eesti Vabariik on riik Põhja-Euroopas.\n",
    "Eesti piirneb põhjas üle Soome lahe Soome Vabariigiga.\n",
    "Riigikogu on Eesti Vabariigi parlament. Riigikogule kuulub Eestis seadusandlik võim.\n",
    "2005. aastal sai peaministriks Andrus Ansip, kes püsis sellel kohal 2014. aastani.\n",
    "2006. aastal valiti presidendiks Toomas Hendrik Ilves.\n",
    "''').tag_all()\n",
    "\n",
    "# Print text using default formatting options\n",
    "tprint( text, ['clauses', 'verb_chains', 'timexes', 'named_entities'] )\n",
    "```\n",
    "The above example produces the following output (in a Windows terminal):\n",
    "\n",
    "![tp_example_2](_static/terminalprettyprinter_example_2.png)\n",
    "   \n",
    "Up to 12 different layers of annotation can be visualized with default settings; default colors are starting from the bright ones (``'green'``, ``'cyan'``, ``'yellow'``, ...) and ending with the dark ones (..., ``'darkblue'``, ``'olive'``, ``'darkred'``)."
   ]
  }
 ],
 "metadata": {
  "anaconda-cloud": {},
  "kernelspec": {
   "display_name": "Python [default]",
   "language": "python",
   "name": "python3"
  },
  "language_info": {
   "codemirror_mode": {
    "name": "ipython",
    "version": 3
   },
   "file_extension": ".py",
   "mimetype": "text/x-python",
   "name": "python",
   "nbconvert_exporter": "python",
   "pygments_lexer": "ipython3",
   "version": "3.5.2"
  }
 },
 "nbformat": 4,
 "nbformat_minor": 1
}
