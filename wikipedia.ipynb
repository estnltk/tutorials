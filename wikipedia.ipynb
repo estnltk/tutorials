{
 "cells": [
  {
   "cell_type": "markdown",
   "metadata": {},
   "source": [
    "Working with Estonian and Võru wikipedia\n",
    "========================================\n",
    "\n",
    "Wikipedia is a free-access, free-content Internet encyclopedia,\n",
    "supported and hosted by the non-profit Wikimedia Foundation. Those who\n",
    "can access the site can edit most of its articles, with the expectation\n",
    "that they follow the website's policies. Wikipedia is ranked among the\n",
    "ten most popular websites and constitutes the Internet's largest and\n",
    "most popular general reference work.\n",
    "\n",
    "Estonian version of the Wikipedia has over 130 000 articles as of 2015.\n",
    "Võru dialect has also its own version containing about 5000 articles.\n",
    "\n",
    "Downloading the Wikipedia dumps\n",
    "-------------------------------\n",
    "\n",
    "Latest Estonian wikipedia:\n",
    "\n",
    "<http://dumps.wikimedia.org/etwiki/latest/etwiki-latest-pages-articles.xml.bz2>\n",
    "\n",
    "Latest Võru dialect wikipedia:\n",
    "\n",
    "<http://dumps.wikimedia.org/fiu_vrowiki/latest/fiu_vrowiki-latest-pages-articles.xml.bz2>\n",
    "\n",
    "\n",
    "Extracting articles from XML files\n",
    "----------------------------------\n",
    "\n",
    "Let's assume you have downloaded both the Estonian and Võru wikipedia\n",
    "into `wikidump` subfolder and extracted the `.xml` files, so that you\n",
    "have two files:"
   ]
  },
  {
   "cell_type": "markdown",
   "metadata": {},
   "source": [
    "wikidump/etwiki-latest-pages-articles.xml\n",
    "\n",
    "\n",
    "wikidump/fiu_vrowiki-latest-pages-articles.xml.bz2"
   ]
  },
  {
   "cell_type": "markdown",
   "metadata": {},
   "source": [
    "Estnltk comes with a tool that can extract all the articles from the XML\n",
    "files and store them as JSON:"
   ]
  },
  {
   "cell_type": "markdown",
   "metadata": {},
   "source": [
    "    $ python3 -m estnltk.wiki.parser -h\n",
    "    \n",
    "    usage: parser.py [-h] [-v] D I"
   ]
  },
  {
   "cell_type": "markdown",
   "metadata": {},
   "source": [
    "Parse Estonian Wikipedia dump file to Article Name.json files in a specified\n",
    "folder\n",
    "\n",
    "   * positional arguments:\n",
    "\n",
    "          D              full path to output directory for the json files\n",
    "          I              wikipedia dump file full path\n",
    "\n",
    "   * optional arguments:\n",
    "\n",
    "          -h, --help     show this help message and exit\n",
    "          -v, --verbose  Print written article titles and count."
   ]
  },
  {
   "cell_type": "markdown",
   "metadata": {},
   "source": [
    "To use it, let's create separate subfolders to both Estonian and Võru\n",
    "articles:"
   ]
  },
  {
   "cell_type": "markdown",
   "metadata": {},
   "source": [
    "    mkdir wikidump/eesti\n",
    "    mkdir wikidump/voru"
   ]
  },
  {
   "cell_type": "markdown",
   "metadata": {},
   "source": [
    "And run the parser:"
   ]
  },
  {
   "cell_type": "markdown",
   "metadata": {},
   "source": [
    "    python3 -m estnltk.wiki.parser wikidump/eesti/ wikidump/etwiki-latest-pages-articles.xml\n",
    "    python3 -m estnltk.wiki.parser wikidump/voru/ wikidump/fiu_vrowiki-latest-pages-articles.xml.bz2"
   ]
  },
  {
   "cell_type": "markdown",
   "metadata": {},
   "source": [
    "As a result, there will be many `.json` files with structure described\n",
    "in section wiki\\_json\\_structure. \n",
    "\n",
    "NB! See section wiki\\_convert on how\n",
    "to access the articles using Estnltk."
   ]
  },
  {
   "cell_type": "markdown",
   "metadata": {},
   "source": [
    "### Json structure\n",
    "\n",
    "The basic structure of an article.json:"
   ]
  },
  {
   "cell_type": "markdown",
   "metadata": {},
   "source": [
    "```python\n",
    "{\n",
    "    \"timestamp\": \"2015-03-22T08:25:09Z\",\n",
    "    \"title\": \"Algriim\",\n",
    "    \"url\": \"http://et.wikipedia.org/wiki/Algriim\"\n",
    "    \"categories\": [\n",
    "      \"Folkloristika\",\n",
    "      \"Foneetika\",\n",
    "      \"Kirjandusteadus\"\n",
    "],\n",
    "    \"sections\": [\n",
    "    {\n",
    "        \"text\": \"Algriim on sõnade algushäälikute koosõla, mida...\",\n",
    "        \"internal_links\": [\n",
    "            {\n",
    "                \"end\": 32,\n",
    "                \"label\": \"häälikute\",\n",
    "                \"start\": 23,\n",
    "                \"title\": \"häälik\",\n",
    "                \"url\": \"http://et.wikipedia.org/wiki/häälik\"\n",
    "            },\n",
    "            {\n",
    "                \"end\": 112,\n",
    "                \"label\": \"alliteratsiooniks\",\n",
    "                \"start\": 95,\n",
    "                \"title\": \"alliteratsioon\",\n",
    "                \"url\": \"http://et.wikipedia.org/wiki/alliteratsioon\"\n",
    "\n",
    "            },\n",
    "         \"external links\": [\n",
    "            {\n",
    "                \"end\": 125,\n",
    "                \"label\": \"Suvine sats sõdurpoisse sõitis sõjaväkke\",\n",
    "                \"start\": 85,\n",
    "                \"url\": \"http://www.tartupostimees.ee/901454/suvine-sats-sodurpoisse-soitis-sojavakke/\"\n",
    "            }\n",
    "        ],\n",
    "        ]\n",
    "    }\n",
    "    \n",
    "            \n",
    "```"
   ]
  },
  {
   "cell_type": "markdown",
   "metadata": {},
   "source": [
    "### Sections\n",
    "\n",
    "The first section is always introduction and doesn´t have a title.\n",
    "\n",
    "A section is a nested structure, if a section has subsections, they can\n",
    "be accessed like this:"
   ]
  },
  {
   "cell_type": "markdown",
   "metadata": {},
   "source": [
    "    obj['sections'][0]['sections']"
   ]
  },
  {
   "cell_type": "markdown",
   "metadata": {},
   "source": [
    "### Other\n",
    "\n",
    "Other elements include objects like wikipedia templates in the form of:"
   ]
  },
  {
   "cell_type": "markdown",
   "metadata": {},
   "source": [
    "```\n",
    "{{templatename|parameter1|etc}}\n",
    "\n",
    "\"other\": [\n",
    "    \"{{See artikkel| räägib üldmõistest; Herodotose teose kohta vaata artiklit [[Historia]]}}\",\n",
    "    \"{{ToimetaAeg|kuu=oktoober|aasta=2012}}\",\n",
    "    \"{{keeletoimeta}}\"\n",
    "]\n",
    "```"
   ]
  },
  {
   "cell_type": "markdown",
   "metadata": {},
   "source": [
    "### References\n",
    "\n",
    "If there are references they are added as a top level field:"
   ]
  },
  {
   "cell_type": "markdown",
   "metadata": {},
   "source": [
    "```python \n",
    "{\n",
    "\"references\": [\n",
    "    {\n",
    "        \"text\": \"Kõiv, Mait. Inimene, ühiskond, kultuur. I osa: vanaaeg. 2006. Lk. 8.\"\n",
    "    }\n",
    "]\n",
    "}\n",
    "```"
   ]
  },
  {
   "cell_type": "markdown",
   "metadata": {},
   "source": [
    "Each section has (if it has references) has a reference field in the\n",
    "form of:"
   ]
  },
  {
   "cell_type": "markdown",
   "metadata": {},
   "source": [
    "```python\n",
    "{\n",
    "\"references\": [\n",
    "            0\n",
    "        ],\n",
    " \"text\": \"Ajalugu (kreeka keeles  - \\\"historia\\\", mis ...\"\n",
    "    }\n",
    "```"
   ]
  },
  {
   "cell_type": "markdown",
   "metadata": {},
   "source": [
    "### Internal Links\n",
    "\n",
    "Internal links point to articles in et.wikipedia.org/wiki/. Link parsing\n",
    "works if the brackets are balanced 99.99% of the time they are, on rare\n",
    "occasions (1/15000 files) can happen that internal links inside external\n",
    "link labels are not balanced correctly. Parser just ignores this. :"
   ]
  },
  {
   "cell_type": "markdown",
   "metadata": {},
   "source": [
    "```python\n",
    "\"internal_links\": [\n",
    "    {\n",
    "        \"end\": 15,\n",
    "        \"label\": \"Tartu ülikoolis\",\n",
    "        \"start\": 0,\n",
    "        \"title\": \"Tartu ülikool\",\n",
    "        \"url\": \"http://et.wikipedia.org/wiki/Tartu_ülikool\"\n",
    "    },\n",
    "    {\n",
    "        \"end\": 70,\n",
    "        \"label\": \"Juri Lotman\",\n",
    "        \"start\": 59,\n",
    "        \"title\": \"Juri Lotman\",\n",
    "        \"url\": \"http://et.wikipedia.org/wiki/Juri_Lotman\"\n",
    "    },\n",
    "    {\n",
    "        \"end\": 101,\n",
    "        \"label\": \"kultuurisemiootika\",\n",
    "        \"start\": 83,\n",
    "        \"title\": \"kultuurisemiootika\",\n",
    "        \"url\": \"http://et.wikipedia.org/wiki/kultuurisemiootika\"\n",
    "    },\n",
    "    {\n",
    "        \"end\": 134,\n",
    "        \"label\": \"Tartu-Moskva koolkonna\",\n",
    "        \"start\": 112,\n",
    "        \"title\": \"Tartu-Moskva koolkond\",\n",
    "        \"url\": \"http://et.wikipedia.org/wiki/Tartu-Moskva_koolkond\"\n",
    "    },\n",
    "    {\n",
    "        \"end\": 216,\n",
    "        \"label\": \"Sign Systems Studies\",\n",
    "        \"start\": 196,\n",
    "        \"title\": \"Sign Systems Studies\",\n",
    "        \"url\": \"http://et.wikipedia.org/wiki/Sign_Systems_Studies\"\n",
    "    },\n",
    "    {\n",
    "        \"end\": 290,\n",
    "        \"label\": \"1964\",\n",
    "        \"start\": 286,\n",
    "        \"title\": \"1964\",\n",
    "        \"url\": \"http://et.wikipedia.org/wiki/1964\"\n",
    "    },\n",
    "    {\n",
    "        \"end\": 325,\n",
    "        \"label\": \"Tartu ülikooli semiootika osakond\",\n",
    "        \"start\": 292,\n",
    "        \"title\": \"Tartu üikooli semiootika osakond\",\n",
    "        \"url\": \"http://et.wikipedia.org/wiki/Tartu_ülikooli_semiootika_osakond\"\n",
    "    },\n",
    "    {\n",
    "        \"end\": 343,\n",
    "        \"label\": \"1992\",\n",
    "        \"start\": 339,\n",
    "        \"title\": \"1992\",\n",
    "        \"url\": \"http://et.wikipedia.org/wiki/1992\"\n",
    "    }\n",
    "],\n",
    "\"text\": \"Tartu ülikoolis tegutses rahvusvaheliselt tuntud semiootik Juri Lotman, kes on üks kultuurisemiootika rajajaid. Tartu-Moskva koolkonna kultuurisemiootika traditsiooni kannab Tartus ilmuv ajakiri \\\"Sign Systems Studies\\\", mis asutati (kui \\\"Trudy po znakovym sistemam – Semeiotike\\\") aastal 1964.\\nTartu ülikooli semiootika osakond loodi aastal 1992.\",\n",
    "\"title\": \"Semiootika Tartus\"\n",
    "```"
   ]
  },
  {
   "cell_type": "markdown",
   "metadata": {},
   "source": [
    "### Text formatting\n",
    "\n",
    "Bold/italics/bulletlists are marked in the dump, but are reformated as\n",
    "plain-text in json. Quotes, newlines are preserved.\n",
    "\n",
    "### Tables\n",
    "\n",
    "Tables are under the corresponding section, separeted from text although\n",
    "unparsed (Json has /n instead of an actual newline):"
   ]
  },
  {
   "cell_type": "markdown",
   "metadata": {},
   "source": [
    "```python\n",
    "\"tables\": [\n",
    "\n",
    "       \"<table>\n",
    "       <tr><td>\n",
    "       Andorra jaguneb 7 vallaks (''parròquia''):\n",
    "       * [[Andorra la Vella]]\n",
    "       * [[Canillo vald]]\n",
    "       * [[Encampi vald]]\n",
    "       * [[Escaldes-Engordany vald]]\n",
    "       * [[La Massana vald]]\n",
    "       * [[Ordino vald]]\n",
    "       * [[Sant Julià de Lòria vald]]\n",
    "       </td>\n",
    "       <td>\n",
    "       [[Pilt:Andora.png|250px]]</td></table>\",\n",
    "\n",
    "       \"{| class=\"wikitable\"\\n! colspan=\"8\" |Armeenia peamised asulad<br />2012. aasta andmed<ref>[http://www.armstat.am/file/doc/99471428.pdf www.armstat.am - GENERAL DESCRIPTION - ОБЩИЙ ОБЗОР]</ref>\\n|-\\n! # !! Linn !! Maakond !! Elanikke !! # !! Linn !! Maakond !! Elanikke \\n|-\\n! 1 \\n| [[Jerevan]] || – || 1&#160;127&#160;300 \\n! 11\\n| Charentsavan || [[Kotajkhi maakond|Kotajkh]] || 25&#160;200 \\n|-\\n! 2\\n| [[Gjumri]] || [[Širaki maakond|Širak]] || 145&#160;900 \\n! 12\\n| [[Sevan]] || [[Gegharkhunikhi maakond|Gegharkhunikh]] || 23&#160;500 \\n|-\\n! 3\\n| [[Vanadzor]] || [[Lori maakond|Lori]] || 104&#160;900 \\n! 13\\n| [[Goris]] || [[Sjunikhi maakond|Sjunikh]] || 23&#160;100 \\n|-\\n! 4\\n| [[Vagharšapat]] || [[Armaviri maakond|Armavir]] || 57&#160;800 \\n! 14\\n| [[Masis]] || [[Ararati maakond|Ararat]] || 22&#160;700 \\n|-\\n! 5\\n| [[Hrazdan]] || [[Kotajkhi maakond|Kotajkh]] || 53&#160;700 \\n! 15\\n| [[Aštarak]] || [[Aragatsotni maakond|Aragatsotn]] || 21&#160;700 \\n|-\\n! 6\\n| [[Abovjan]] || [[Kotajkhi maakond|Kotajkh]] || 47&#160;200 \\n! 16\\n| [[Ararat]] || [[Ararati maakond|Ararat]] || 21&#160;000 \\n|-\\n! 7\\n| [[Kapan]] || [[Sjunikhi maakond|Sjunikh]] || 45&#160;500 \\n! 17\\n| [[Idževan]] || [[Tavuši maakond|Tavuš]] || 20&#160;700 \\n|-\\n! 8\\n| [[Armavir]] || [[Armaviri maakond|Armavir]] || 34&#160;000 \\n! 18\\n| [[Arthik]] || [[Širaki maakond|Širak]] || 17&#160;400 \\n|-\\n! 9\\n| [[Gavar]] || [[Gegharkhunikhi maakond|Gegharkhunikh]] || 25&#160;700 \\n! 19\\n| [[Sisian]] || [[Sjunikhi maakond|Sjunikh]] || 16&#160;800 \\n|-\\n! 10\\n| [[Artašat]] || [[Ararati maakond|Ararat]] || 25&#160;600 \\n! 20\\n| [[Alaverdi]] || [[Lori maakond|Lori]] || 16&#160;400 \\n|-\\n|}\"]\n",
    "```"
   ]
  },
  {
   "cell_type": "markdown",
   "metadata": {},
   "source": [
    "### Images\n",
    "\n",
    "Images are also under the corresponding section. From the image text\n",
    "links (both internal, external) are extracted:"
   ]
  },
  {
   "cell_type": "markdown",
   "metadata": {},
   "source": [
    "```python\n",
    "\"images\": [\n",
    "    {\n",
    "     \"internal_links\": [\n",
    "         {\n",
    "\n",
    "            \"end\": 9, \n",
    "             \"label\": \"Dareios I\", \n",
    "             \"start\": 0, \n",
    "             \"title\": \"Dareios I\",\n",
    "             \"url\": \"<http://et.wikipedia.org/wiki/Dareios_I\"\n",
    "\n",
    "         },\n",
    "         {\n",
    "                \"end\": 28,\n",
    "                \"label\": \"Behistuni raidkiri\",\n",
    "                \"start\": 10,\n",
    "                \"title\": \"Behistuni raidkiri\",\n",
    "                \"url\": \"http://et.wikipedia.org/wiki/Behistuni_raidkiri\"\n",
    "            },\n",
    "            {\n",
    "                \"end\": 72,\n",
    "                \"label\": \"6. sajand eKr\",\n",
    "                \"start\": 59,\n",
    "                \"title\": \"6. sajand eKr\",\n",
    "                \"url\": \"http://et.wikipedia.org/wiki/6._sajand_eKr\"\n",
    "            }\n",
    "        ],\n",
    "        \"text\": \"Dareios I Behistuni raidkiri, millel mainitakse Armeeniat. 6. sajand eKr.\",\n",
    "        \"url\": \"http://et.wikipedia.org/wiki/Pilt:Darius_I_the_Great's_inscription.jpg\"\n",
    "    }\n",
    "]\n",
    "```"
   ]
  },
  {
   "cell_type": "markdown",
   "metadata": {},
   "source": [
    "Converting articles to Estnltk JSON\n",
    "-----------------------------------\n",
    "\n",
    "The JSON files produced by `estnltk.wiki.parser` contains more\n",
    "structural data that can be represented by Estnltk-s\n",
    "**Text** class, thus you cannot directly use this JSON to\n",
    "initiate **Text** instances.\n",
    "\n",
    "In Section extracting\\_xml\\_articles, we created two folders:"
   ]
  },
  {
   "cell_type": "markdown",
   "metadata": {},
   "source": [
    "* `wikidump/voru`\n",
    "* `wikidump/eesti`"
   ]
  },
  {
   "cell_type": "markdown",
   "metadata": {},
   "source": [
    "containing article JSON files extracted from Estonian and Võru dialect\n",
    "wikipedia. Let's create subfolders:"
   ]
  },
  {
   "cell_type": "markdown",
   "metadata": {},
   "source": [
    "* `corpora/voru`\n",
    "* `corpora/eesti`"
   ]
  },
  {
   "cell_type": "markdown",
   "metadata": {},
   "source": [
    "where we will store the converted JSON files. The script\n",
    "`estnltk.wiki.convert` can be used for the job:"
   ]
  },
  {
   "cell_type": "markdown",
   "metadata": {},
   "source": [
    "    python3 -m estnltk.wiki.convert wikidump/voru/ corpora/voru/\n",
    "    python3 -m estnltk.wiki.convert wikidump/eesti corpora/eesti/"
   ]
  },
  {
   "cell_type": "markdown",
   "metadata": {},
   "source": [
    "As a result, the folders contain large number of files in JSON format\n",
    "that can be used with Estnltk **Text** class. Note that\n",
    "there is only plain text with unique data from the article dumps. No\n",
    "tokenization, named entity extraction nor anything else has been done."
   ]
  },
  {
   "cell_type": "markdown",
   "metadata": {},
   "source": [
    "\n",
    "### Structure\n",
    "\n",
    "The top level layers are: data, external\\_links, internal\\_links,\n",
    "sections, text. Data contains categories, (list of) references, infobox,\n",
    "timestamp, title, url. :"
   ]
  },
  {
   "cell_type": "markdown",
   "metadata": {},
   "source": [
    "```python\n",
    "{\n",
    "\"data\": {\n",
    "    \"categories\": [\n",
    "        \"Oguusi keeled\",\n",
    "        \"Aserbaid\\u017eaan\",\n",
    "        \"Turgi keeled\"\n",
    "    ],\n",
    "    \"infobox\": [\n",
    "        {\n",
    "            \"keelkond\": \"turgi keeledoguusi keeled'''aserbaid\\u017eaani keel'''\",\n",
    "            \"keelkonnav\\u00e4rv\": \"altai\",\n",
    "            \"kood 1\": \"az\",\n",
    "            \"kood 2\": \"aze\",\n",
    "            \"piirkond\": \"Kaukaasia\",\n",
    "            \"riigid\": \"Aserbaid\\u017eaanis, Iraanis, Gruusias, Venemaal, T\\u00fcrgis\",\n",
    "            \"riik\": \"Aserbaid\\u017eaan}}\",\n",
    "            \"r\\u00e4\\u00e4kijad\": \"45-50 miljonit\"\n",
    "        }\n",
    "    ],\n",
    "    \"timestamp\": \"2014-02-18T19:43:10Z\",\n",
    "    \"title\": \"Aserbaid\\u017eaani keel\",\n",
    "    \"url\": \"http://et.wikipedia.org/wiki/Aserbaid\\u017eaani_keel\"\n",
    "}\n",
    "```"
   ]
  },
  {
   "cell_type": "markdown",
   "metadata": {},
   "source": [
    "Links are now top level, recalculated to point to whole concatenated\n",
    "article text and point to `obj[text]` level. :"
   ]
  },
  {
   "cell_type": "markdown",
   "metadata": {},
   "source": [
    "```python\n",
    "\"external_links\": [\n",
    "    {\n",
    "        \"end\": 948,\n",
    "        \"label\": \"Vikipeedia aserbaid\\u017eaani keeles\",\n",
    "        \"start\": 917,\n",
    "        \"url\": \"http://az.wikipedia.org\"\n",
    "    }\n",
    "],\n",
    "\"internal_links\": [\n",
    "    {\n",
    "        \"end\": 57,\n",
    "        \"label\": \"turgi keelte\",\n",
    "        \"start\": 45,\n",
    "        \"title\": \"turgi keeled\",\n",
    "        \"url\": \"http://et.wikipedia.org/wiki/turgi_keeled\"\n",
    "    }\n",
    "    \n",
    "```"
   ]
  },
  {
   "cell_type": "markdown",
   "metadata": {},
   "source": [
    "Sections contains start and end point of sections, title, images,\n",
    "references, but not section text itself. :"
   ]
  },
  {
   "cell_type": "markdown",
   "metadata": {},
   "source": [
    "```python\n",
    "\"sections\": [\n",
    " {\n",
    "     \"end\": 801,\n",
    "     \"images\": [\n",
    "         {\n",
    "             \"text\": \"pisi\",\n",
    "             \"url\": \"http://et.wikipedia.org/wiki/Pilt:Idioma_azer\\u00ed.png\"\n",
    "         }\n",
    "     ],\n",
    "     \"start\": 0\n",
    " },\n",
    "```"
   ]
  },
  {
   "cell_type": "markdown",
   "metadata": {},
   "source": [
    "Text is a separate layer all the sections concatenated with section\n",
    "titles. :"
   ]
  },
  {
   "cell_type": "markdown",
   "metadata": {},
   "source": [
    "```\n",
    "{start}Title\n",
    "SectionText{end}\n",
    "\n",
    "{start}Title2\n",
    "Section2Text{end}\n",
    "\n",
    "\n",
    "   \"text\": \"Aserbaid\\u017eaani keel\\nAserbaid\\u017eaani keel kuulub turgi keelte hulka. Peale Aserbaid\\u017eaani k\\u00f5neldakse seda Gruusias, Armeenias, Iraanis, Iraagis ja T\\u00fcrgis.\\nAserbaid\\u017eaani keel kuulub oguusi keelte hulka,\n",
    "```"
   ]
  },
  {
   "cell_type": "markdown",
   "metadata": {},
   "source": [
    "Downloading the processed dumps\n",
    "-------------------------------\n",
    "\n",
    "Just in case you do not want to extract the articles yourself, here are\n",
    "the links to processed files from dumps downloaded on Sep 7 2015.\n",
    "\n",
    "Estonian Wikipedia articles:\n",
    "<http://ats.cs.ut.ee/keeletehnoloogia/estnltk/wiki_articles/eesti.zip>\n",
    "\n",
    "Võru dialect Wikipedia articles:\n",
    "<http://ats.cs.ut.ee/keeletehnoloogia/estnltk/wiki_articles/voru.zip>"
   ]
  }
 ],
 "metadata": {
  "anaconda-cloud": {},
  "kernelspec": {
   "display_name": "Python [default]",
   "language": "python",
   "name": "python3"
  },
  "language_info": {
   "codemirror_mode": {
    "name": "ipython",
    "version": 3.0
   },
   "file_extension": ".py",
   "mimetype": "text/x-python",
   "name": "python",
   "nbconvert_exporter": "python",
   "pygments_lexer": "ipython3",
   "version": "3.5.2"
  }
 },
 "nbformat": 4,
 "nbformat_minor": 0
}