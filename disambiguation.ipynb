{
 "cells": [
  {
   "cell_type": "markdown",
   "metadata": {},
   "source": [
    "Morphological disambiguation on a collection of documents\n",
    "========================================================="
   ]
  },
  {
   "cell_type": "markdown",
   "metadata": {},
   "source": [
    "Estnltk does basic morphological disambiguation by using a probabilistic\n",
    "disambiguator which relies on the local (sentence) context. [[KA01](#kaalep)]\n",
    "This works well enough for any type of texts: news articles, comments,\n",
    "mixed content etc.\n",
    "\n",
    "However, the quality of the disambiguation can be further improved if a\n",
    "broader context (e.g. the whole text, or a collection of texts) is\n",
    "considered in the process. If morphologically ambiguous words (for\n",
    "example: proper names) reoccur in other parts of the text or in other\n",
    "related texts, one can use the assumption \"one lemma per discourse\"\n",
    "(inspired by the observation \"one sense per discourse\" from Word Sense\n",
    "Disambiguation) and choose the right analysis based on the most\n",
    "frequently occurring lemma candidate. [[KA12](#kaalep)]"
   ]
  },
  {
   "cell_type": "markdown",
   "metadata": {},
   "source": [
    "<a id='KA01'></a>\n",
    "\n",
    "[KA01] Kaalep, Heiki-Jaan, and Vaino, Tarmo. “Complete morphological analysis in the linguist’s toolbox.” Congressus Nonus Internationalis Fenno-Ugristarum Pars V (2001): 9-16.\n",
    "\n",
    "[KA12] Kaalep, Heiki Jaan, Riin Kirt, and Kadri Muischnek. “A trivial method for choosing the right lemma.” Baltic HLT. 2012.\n"
   ]
  },
  {
   "cell_type": "markdown",
   "metadata": {},
   "source": [
    "Consider the following example of a text collection:"
   ]
  },
  {
   "cell_type": "code",
   "execution_count": 1,
   "metadata": {
    "collapsed": true
   },
   "outputs": [],
   "source": [
    "corpus = ['Esimesele kohale tuleb Jänes, kuigi tema punktide summa pole kõrgeim.',\\\n",
    "          'Lõpparvestuses läks Konnale esimene koht. Teise koha sai seekord Jänes. Uus võistlus toimub 2. mail.', \\\n",
    "          'Konn paistis silma suurima punktide summaga. Uue võistluse toimumisajaks on 2. mai.']"
   ]
  },
  {
   "cell_type": "markdown",
   "metadata": {},
   "source": [
    "After applying the default (local context) morphological disambiguation,\n",
    "some of the words will still be ambiguous, as can be revealed by\n",
    "executing the following scipt:"
   ]
  },
  {
   "cell_type": "code",
   "execution_count": 2,
   "metadata": {
    "collapsed": false
   },
   "outputs": [
    {
     "name": "stdout",
     "output_type": "stream",
     "text": [
      "kohale [('koht', 'S', 'sg all'), ('koha', 'S', 'sg all')]\n",
      "kuigi [('kuigi', 'D', ''), ('kuigi', 'J', '')]\n",
      "Teise [('teine', 'O', 'sg g'), ('teine', 'P', 'sg g')]\n",
      "koha [('koht', 'S', 'sg g'), ('koha', 'S', 'sg g')]\n",
      "mail [('maa', 'S', 'pl ad'), ('mai', 'S', 'sg ad')]\n",
      "summaga [('summ', 'S', 'sg kom'), ('summa', 'S', 'sg kom')]\n",
      "on [('ole', 'V', 'b'), ('ole', 'V', 'vad')]\n"
     ]
    }
   ],
   "source": [
    "from estnltk import Text\n",
    "from estnltk.names import TEXT, ANALYSIS, ROOT, POSTAG, FORM\n",
    "\n",
    "for text_str in corpus:\n",
    "    text = Text(text_str)\n",
    "    # Perform morphological analysis with default disambiguation\n",
    "    text.tag_analysis()\n",
    "    # Print out all words with ambiguous analyses\n",
    "    for word in text.words:\n",
    "        if len(word[ANALYSIS]) > 1:\n",
    "            print( word[TEXT],[(a[ROOT],a[POSTAG],a[FORM]) for a in word[ANALYSIS]] )"
   ]
  },
  {
   "cell_type": "markdown",
   "metadata": {},
   "source": [
    "Basic usage\n",
    "-----------\n",
    "\n",
    "Estnltk's class **Disambiguator** provides method\n",
    "**disambiguate()**, which takes a\n",
    "collection of texts (can be a list of strings or a list of\n",
    "**Text** objects) as an input, and performs both local\n",
    "context morphological disambiguation and \"one lemma per discourse\"\n",
    "disambiguation on the collection:"
   ]
  },
  {
   "cell_type": "code",
   "execution_count": 3,
   "metadata": {
    "collapsed": true
   },
   "outputs": [],
   "source": [
    "from estnltk import Disambiguator\n",
    "\n",
    "corpus = ['Esimesele kohale tuleb Jänes, kuigi tema punktide summa pole kõrgeim.',\\\n",
    "          'Lõpparvestuses läks Konnale esimene koht. Teise koha sai seekord Jänes. Uus võistlus toimub 2. mail.', \\\n",
    "          'Konn paistis silma suurima punktide summaga. Uue võistluse toimumisajaks on 2. mai.']\n",
    "\n",
    "disamb = Disambiguator()\n",
    "texts = disamb.disambiguate(corpus)"
   ]
  },
  {
   "cell_type": "markdown",
   "metadata": {},
   "source": [
    "The method returns a list of **Text** objects. We can use\n",
    "the following script to check for morphological ambiguities in this\n",
    "list:"
   ]
  },
  {
   "cell_type": "code",
   "execution_count": 4,
   "metadata": {
    "collapsed": false
   },
   "outputs": [
    {
     "name": "stdout",
     "output_type": "stream",
     "text": [
      "kuigi [('kuigi', 'D', ''), ('kuigi', 'J', '')]\n",
      "Teise [('teine', 'O', 'sg g'), ('teine', 'P', 'sg g')]\n",
      "on [('ole', 'V', 'b'), ('ole', 'V', 'vad')]\n"
     ]
    }
   ],
   "source": [
    "from estnltk.names import TEXT, ANALYSIS, ROOT, POSTAG, FORM\n",
    "\n",
    "for text in texts:\n",
    "    # Print out all words with ambiguous analyses\n",
    "    for word in text.words:\n",
    "        if len(word[ANALYSIS]) > 1:\n",
    "            print(word[TEXT],[(a[ROOT],a[POSTAG],a[FORM]) for a in word[ANALYSIS]])"
   ]
  },
  {
   "cell_type": "markdown",
   "metadata": {},
   "source": [
    "The output shows that the ambiguities in the content words (nouns\n",
    "*kohale*, *koha*, *mail*, *summaga*) have been removed."
   ]
  },
  {
   "cell_type": "markdown",
   "metadata": {},
   "source": [
    "Pre-disambiguation and post-disambiguation\n",
    "------------------------------------------\n",
    "\n",
    "Under the hood, the disambiguation process implemented in\n",
    "**Disambiguator** can be broken down into three\n",
    "steps:\n",
    "\n",
    "1.  **pre-disambiguation** during which the collection level\n",
    "    disambiguation is applied for resolving proper noun vs common noun\n",
    "    ambiguities;\n",
    "2.  **local context disambiguation** during which the sentence level\n",
    "    disambiguation is performed;\n",
    "3.  **post-disambiguation** during which the collection level\n",
    "    disambiguation is applied for resolving remaining ambiguities in\n",
    "    content words;\n",
    "\n",
    "By default, all three steps are performed on the input corpus. However,\n",
    "if needed, pre-disambiguation and post-disambiguation can also be\n",
    "disabled, passing `pre_disambiguate=False` and `post_disambiguate=False`\n",
    "as input arguments for the method\n",
    "**disambiguate()**.\n",
    "\n",
    "In following example, disambiguation is applied both with\n",
    "pre-disambiguation enabled and disabled, and the difference in results\n",
    "is printed out:"
   ]
  },
  {
   "cell_type": "code",
   "execution_count": 5,
   "metadata": {
    "collapsed": false
   },
   "outputs": [
    {
     "name": "stdout",
     "output_type": "stream",
     "text": [
      "Jänes [('Jänes', 'H', 'sg n')]  vs  [('jänes', 'S', 'sg n')]\n",
      "Hunti [('hunt', 'S', 'sg p')]  vs  [('Hunt', 'H', 'sg g'), ('Hunti', 'H', 'sg g')]\n",
      "Talupidaja [('talu_pidaja', 'S', 'sg n')]  vs  [('talu_pidaja', 'S', 'sg g')]\n",
      "Jänes [('Jänes', 'H', 'sg n')]  vs  [('jänes', 'S', 'sg n')]\n",
      "Lammas [('Lammas', 'H', 'sg n')]  vs  [('lammas', 'S', 'sg n')]\n",
      "Jänesele [('Jänes', 'H', 'sg all')]  vs  [('jänes', 'S', 'sg all')]\n",
      "Lambale [('Lammas', 'H', 'sg all')]  vs  [('lammas', 'S', 'sg all')]\n"
     ]
    }
   ],
   "source": [
    "corpus = ['Jänes oli parajasti põllu peal. Hunti nähes ta ehmus ja pani jooksu.',\\\n",
    "          'Talupidaja Jänes kommenteeris, et hunte on viimasel ajal liiga palju siginenud. Tema naaber, talunik Lammas, nõustus sellega.', \\\n",
    "          'Jänesele ja Lambale oli selge, et midagi tuleb ette võtta. Eile algatasid nad huntidevastase kampaania.']\n",
    "\n",
    "from estnltk.names import TEXT, ANALYSIS, ROOT, POSTAG, FORM      \n",
    "from estnltk import Disambiguator\n",
    "\n",
    "disamb = Disambiguator()\n",
    "texts_with_predisamb    = disamb.disambiguate(corpus)\n",
    "texts_without_predisamb = disamb.disambiguate(corpus, pre_disambiguate=False)\n",
    "\n",
    "for i in range(len(texts_with_predisamb)):\n",
    "    with_predisamb    = texts_with_predisamb[i]\n",
    "    without_predisamb = texts_without_predisamb[i]\n",
    "    for j in range(len(with_predisamb.words)):\n",
    "        word1 = with_predisamb.words[j]\n",
    "        word2 = without_predisamb.words[j]\n",
    "        if word1 != word2:\n",
    "            print(word1[TEXT], \\\n",
    "                  [(a[ROOT],a[POSTAG],a[FORM]) for a in word1[ANALYSIS]], \\\n",
    "                  ' vs ', \\\n",
    "                  [(a[ROOT],a[POSTAG],a[FORM]) for a in word2[ANALYSIS]] )"
   ]
  }
 ],
 "metadata": {
  "anaconda-cloud": {},
  "kernelspec": {
   "display_name": "Python [default]",
   "language": "python",
   "name": "python3"
  },
  "language_info": {
   "codemirror_mode": {
    "name": "ipython",
    "version": 3.0
   },
   "file_extension": ".py",
   "mimetype": "text/x-python",
   "name": "python",
   "nbconvert_exporter": "python",
   "pygments_lexer": "ipython3",
   "version": "3.5.2"
  }
 },
 "nbformat": 4,
 "nbformat_minor": 0
}