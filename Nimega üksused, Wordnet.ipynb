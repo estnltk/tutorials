{
 "cells": [
  {
   "cell_type": "markdown",
   "metadata": {},
   "source": [
    "<h2 style=\"color:blue\">Tekstitöötlus eesti keelele loodud vahenditega</h3>\n",
    "<h3 style=\"color:blue\">Nimega üksused. Wordnet</h3>"
   ]
  },
  {
   "cell_type": "markdown",
   "metadata": {},
   "source": [
    "### Nimega üksused"
   ]
  },
  {
   "cell_type": "markdown",
   "metadata": {},
   "source": [
    "Nimega üksuste tuvastamine (*named entity recognition*, NER) on oluline erinevate tekstitöötlusülesannete puhul. Nimede tuvastamine aitab vähendada tekstis mitmesusi (nt kas lause alguses olev suurtäheline nimisõna on pärisnimi või mitte) ning omab olulist rolli automaatsel infoeraldusel, samuti võib nimede tuvastamine olla eeltingimuseks teatavate andmete töötlemisel. "
   ]
  },
  {
   "cell_type": "markdown",
   "metadata": {},
   "source": [
    "EstNLTK-s saab leida nimega üksused klassimuutuja 'named_entities' abil:"
   ]
  },
  {
   "cell_type": "code",
   "execution_count": 1,
   "metadata": {
    "collapsed": true
   },
   "outputs": [],
   "source": [
    "from estnltk import Text"
   ]
  },
  {
   "cell_type": "code",
   "execution_count": 2,
   "metadata": {
    "collapsed": true
   },
   "outputs": [],
   "source": [
    "text2 = Text(\"Jüri Mets sõitis Elroni rongiga Tartusse.\")"
   ]
  },
  {
   "cell_type": "code",
   "execution_count": 3,
   "metadata": {
    "collapsed": false
   },
   "outputs": [
    {
     "data": {
      "text/plain": [
       "['Jüri Mets', 'Elron|Elroni', 'Tartu']"
      ]
     },
     "execution_count": 3,
     "metadata": {},
     "output_type": "execute_result"
    }
   ],
   "source": [
    "text2.named_entities"
   ]
  },
  {
   "cell_type": "code",
   "execution_count": 4,
   "metadata": {
    "collapsed": false
   },
   "outputs": [
    {
     "data": {
      "text/plain": [
       "[('Jüri Mets', 'PER', (0, 9)),\n",
       " ('Elron|Elroni', 'LOC', (17, 23)),\n",
       " ('Tartu', 'LOC', (32, 40))]"
      ]
     },
     "execution_count": 4,
     "metadata": {},
     "output_type": "execute_result"
    }
   ],
   "source": [
    "list(zip(text2.named_entities, text2.named_entity_labels, text2.named_entity_spans))"
   ]
  },
  {
   "cell_type": "markdown",
   "metadata": {},
   "source": [
    "### Ülesanne 1. (1p)\n",
    "Leidke Indrek Hargla lühijuttudest nimega üksused ning lugege kokku, mitmes\n",
    "lühijutus iga leitud nimega üksus esineb. Järjestage saadud tulemused sageduse\n",
    "alusel ning väljastage 10 nimega üksust, mida esines enim."
   ]
  },
  {
   "cell_type": "markdown",
   "metadata": {},
   "source": [
    "### Wordnet"
   ]
  },
  {
   "cell_type": "markdown",
   "metadata": {},
   "source": [
    "Wordnet on leksikaal-semantiline andmebaas, mis sisaldab informatsiooni mõistete ja nendevaheliste semantiliste suhete kohta. Wordneti põhiühik on sünonüümihulk (ka sünohulk), mis koosneb kõigist ühte ja sama mõistet väljendavatest sõnadest (või sõnaühenditest). Sünohulgad on ühendatud viidetega, mis vastavad mõistetevahelistele suhetele. Kõige olulisemad suhted on hüponüümia ja hüperonüümia ehk alam- ja ülemmõistete leidmine. "
   ]
  },
  {
   "cell_type": "code",
   "execution_count": 5,
   "metadata": {
    "collapsed": true
   },
   "outputs": [],
   "source": [
    "from estnltk.wordnet import wn\n",
    "from pprint import pprint"
   ]
  },
  {
   "cell_type": "markdown",
   "metadata": {},
   "source": [
    "Leiame sünohulgad, kuhu kuulub sõna \"koer\""
   ]
  },
  {
   "cell_type": "code",
   "execution_count": 6,
   "metadata": {
    "collapsed": true
   },
   "outputs": [],
   "source": [
    "koer = wn.synsets(\"koer\")"
   ]
  },
  {
   "cell_type": "code",
   "execution_count": 7,
   "metadata": {
    "collapsed": false
   },
   "outputs": [
    {
     "data": {
      "text/plain": [
       "[\"Synset('koer.n.01')\", \"Synset('kaak.n.01')\"]"
      ]
     },
     "execution_count": 7,
     "metadata": {},
     "output_type": "execute_result"
    }
   ],
   "source": [
    "koer"
   ]
  },
  {
   "cell_type": "markdown",
   "metadata": {},
   "source": [
    "Leiame leitud sünohulkade ülemmõisted ehk hüperonüümid"
   ]
  },
  {
   "cell_type": "code",
   "execution_count": 8,
   "metadata": {
    "collapsed": false
   },
   "outputs": [
    {
     "name": "stdout",
     "output_type": "stream",
     "text": [
      "[\"Synset('koerlane.n.01')\"]\n",
      "[\"Synset('alaealine.n.01')\"]\n"
     ]
    }
   ],
   "source": [
    "for k in koer:\n",
    "    pprint(k.hypernyms())"
   ]
  },
  {
   "cell_type": "markdown",
   "metadata": {},
   "source": [
    "Leiame leitud sünohulkade alammõisted ehk hüponüümid"
   ]
  },
  {
   "cell_type": "code",
   "execution_count": 9,
   "metadata": {
    "collapsed": false
   },
   "outputs": [
    {
     "name": "stdout",
     "output_type": "stream",
     "text": [
      "[\"Synset('õuekoer.n.01')\",\n",
      " \"Synset('jälituskoer.n.01')\",\n",
      " \"Synset('karjakoer.n.01')\",\n",
      " \"Synset('kelgukoer.n.01')\",\n",
      " \"Synset('toakoer.n.01')\",\n",
      " \"Synset('teenistuskoer.n.01')\",\n",
      " \"Synset('njuufaundlane.n.01')\",\n",
      " \"Synset('veokoer.n.01')\",\n",
      " \"Synset('juhtkoer.n.01')\",\n",
      " \"Synset('jahikoer.n.01')\",\n",
      " \"Synset('sitsija.n.01')\",\n",
      " \"Synset('krants.n.01')\",\n",
      " \"Synset('rakk.n.02')\",\n",
      " \"Synset('lita.n.02')\",\n",
      " \"Synset('koeraklutt.n.01')\",\n",
      " \"Synset('klähvits.n.01')\"]\n",
      "[]\n"
     ]
    }
   ],
   "source": [
    "for k in koer:\n",
    "    pprint(k.hyponyms())"
   ]
  },
  {
   "cell_type": "markdown",
   "metadata": {},
   "source": [
    "### Ülesanne 2. (1p)\n",
    "Kirjutage kood (või täiendage 1. ülesandes loodut), mis loeb sisse faili *parasiitlusest.txt*, lemmatiseerib teksti, eemaldab lemmade hulgast kirjavahemärgid ning teisendab alles jäänud lemmad Wordneti liidese abil\n",
    "sünohulkadeks. Vasta järgmistele küsimustele:\n",
    "\n",
    "a) Mitmel % lemmadest on Wordnetis enam kui üks sünohulk?\n",
    "\n",
    "b) Mitmel % lemmadest ei ole Wordnetis ühtegi vastet?\n",
    "\n",
    "c) Mitu tähendust leitakse iga lemma kohta keskmiselt?\n",
    "\n",
    "Vihjeid:\n",
    "- Kirjavahemärgid on märgendiga *Z*.\n",
    "- Sünohulkade leidmiseks tuleb tekst eelnevalt lemmatiseerida.\n",
    "- Kui sõnal on mitu lemmat (nt levima|levinud), siis tuleks sünohulgad leida kõigile võimalikele lemmadele."
   ]
  }
 ],
 "metadata": {
  "anaconda-cloud": {},
  "kernelspec": {
   "display_name": "Python [conda env:estnltk141]",
   "language": "python",
   "name": "conda-env-estnltk141-py"
  },
  "language_info": {
   "codemirror_mode": {
    "name": "ipython",
    "version": 3
   },
   "file_extension": ".py",
   "mimetype": "text/x-python",
   "name": "python",
   "nbconvert_exporter": "python",
   "pygments_lexer": "ipython3",
   "version": "3.5.0"
  }
 },
 "nbformat": 4,
 "nbformat_minor": 1
}
